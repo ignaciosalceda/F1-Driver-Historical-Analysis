{
  "cells": [
    {
      "cell_type": "markdown",
      "metadata": {
        "id": "vdXJRZYqlb3d"
      },
      "source": [
        "# Formula 1 Data Driver Analysis\n",
        "\n",
        "The data is composed of the following variables:\n",
        "* `car_number`: the number of the car\n",
        "* `grid_starting_position`: the starting position of the car in the grid\n",
        "* `final_position`: the position in which that driver ended\n",
        "* `points`: the points earned by the driver in the race\n",
        "* `laps`: the number of laps completed by the driver\n",
        "* `total_race_time_ms`: the total time the driver took to complete the race in milliseconds\n",
        "* `fastest_lap`: the fastest lap completed by the driver\n",
        "* `rank`: the rank of the driver in the race\n",
        "* `fastest_lap_time`: the time taken to complete the fastest lap\n",
        "* `fastest_lap_speed`: the speed of the fastest lap\n",
        "* `year`: the year of the race\n",
        "* `race_number_season`: the number of the race in the season\n",
        "* `race_name`: the name of the race\n",
        "* `race_date`: the date of the race\n",
        "* `race_start_time`: the start time of the race\n",
        "* `circuit_name`: the name of the circuit where the race took place\n",
        "* `circuit_location`: the location of the circuit\n",
        "* `circuit_country`: the country where the circuit is located\n",
        "* `circuit_lat`: the latitude of the circuit\n",
        "* `circuit_lng`: the longitude of the circuit\n",
        "* `circuit_altitude`: the altitude of the circuit\n",
        "* `driver`: the name of the driver\n",
        "* `driver_dob`: the date of birth of the driver\n",
        "* `driver_nationality`: the nationality of the driver\n",
        "* `constructor_name`: the name of the constructor team\n",
        "* `constructor_nationality`: the nationality of the constructor team\n",
        "* `status`: the status of the driver in the race (e.g., Finished, Did Not Finish, etc.)"
      ]
    },
    {
      "cell_type": "code",
      "execution_count": 43,
      "metadata": {
        "colab": {
          "base_uri": "https://localhost:8080/"
        },
        "id": "mSvsq_ZqqQv8",
        "outputId": "008412d2-8580-4ba7-b9b3-0c45c9395201"
      },
      "outputs": [
        {
          "name": "stdout",
          "output_type": "stream",
          "text": [
            "   car_number  grid_starting_position  final_position  points  laps  \\\n",
            "0        22.0                       1             1.0    10.0    58   \n",
            "1         3.0                       5             2.0     8.0    58   \n",
            "2         7.0                       7             3.0     6.0    58   \n",
            "3         5.0                      11             4.0     5.0    58   \n",
            "4        23.0                       3             5.0     4.0    58   \n",
            "5         8.0                      13             6.0     3.0    57   \n",
            "6        14.0                      17             7.0     2.0    55   \n",
            "7         1.0                      15             8.0     1.0    53   \n",
            "8         4.0                       2             NaN     0.0    47   \n",
            "9        12.0                      18             NaN     0.0    43   \n",
            "\n",
            "   total_race_time_ms  fastest_lap  rank fastest_lap_time  fastest_lap_speed  \\\n",
            "0           5690616.0         39.0   2.0         1:27.452            218.300   \n",
            "1           5696094.0         41.0   3.0         1:27.739            217.586   \n",
            "2           5698779.0         41.0   5.0         1:28.090            216.719   \n",
            "3           5707797.0         58.0   7.0         1:28.603            215.464   \n",
            "4           5708630.0         43.0   1.0         1:27.418            218.385   \n",
            "5                 NaN         50.0  14.0         1:29.639            212.974   \n",
            "6                 NaN         22.0  12.0         1:29.534            213.224   \n",
            "7                 NaN         20.0   4.0         1:27.903            217.180   \n",
            "8                 NaN         15.0   9.0         1:28.753            215.100   \n",
            "9                 NaN         23.0  13.0         1:29.558            213.166   \n",
            "\n",
            "   year  race_number_season              race_name   race_date  \\\n",
            "0  2008                   1  Australian Grand Prix  2008-03-16   \n",
            "1  2008                   1  Australian Grand Prix  2008-03-16   \n",
            "2  2008                   1  Australian Grand Prix  2008-03-16   \n",
            "3  2008                   1  Australian Grand Prix  2008-03-16   \n",
            "4  2008                   1  Australian Grand Prix  2008-03-16   \n",
            "5  2008                   1  Australian Grand Prix  2008-03-16   \n",
            "6  2008                   1  Australian Grand Prix  2008-03-16   \n",
            "7  2008                   1  Australian Grand Prix  2008-03-16   \n",
            "8  2008                   1  Australian Grand Prix  2008-03-16   \n",
            "9  2008                   1  Australian Grand Prix  2008-03-16   \n",
            "\n",
            "  race_start_time                    circuit_name circuit_location  \\\n",
            "0        04:30:00  Albert Park Grand Prix Circuit        Melbourne   \n",
            "1        04:30:00  Albert Park Grand Prix Circuit        Melbourne   \n",
            "2        04:30:00  Albert Park Grand Prix Circuit        Melbourne   \n",
            "3        04:30:00  Albert Park Grand Prix Circuit        Melbourne   \n",
            "4        04:30:00  Albert Park Grand Prix Circuit        Melbourne   \n",
            "5        04:30:00  Albert Park Grand Prix Circuit        Melbourne   \n",
            "6        04:30:00  Albert Park Grand Prix Circuit        Melbourne   \n",
            "7        04:30:00  Albert Park Grand Prix Circuit        Melbourne   \n",
            "8        04:30:00  Albert Park Grand Prix Circuit        Melbourne   \n",
            "9        04:30:00  Albert Park Grand Prix Circuit        Melbourne   \n",
            "\n",
            "  circuit_country  circuit_lat  circuit_lng  circuit_altitude  \\\n",
            "0       Australia     -37.8497      144.968              10.0   \n",
            "1       Australia     -37.8497      144.968              10.0   \n",
            "2       Australia     -37.8497      144.968              10.0   \n",
            "3       Australia     -37.8497      144.968              10.0   \n",
            "4       Australia     -37.8497      144.968              10.0   \n",
            "5       Australia     -37.8497      144.968              10.0   \n",
            "6       Australia     -37.8497      144.968              10.0   \n",
            "7       Australia     -37.8497      144.968              10.0   \n",
            "8       Australia     -37.8497      144.968              10.0   \n",
            "9       Australia     -37.8497      144.968              10.0   \n",
            "\n",
            "               driver  driver_dob driver_nationality constructor_name  \\\n",
            "0      Lewis Hamilton  1985-01-07            British          McLaren   \n",
            "1       Nick Heidfeld  1977-05-10             German       BMW Sauber   \n",
            "2        Nico Rosberg  1985-06-27             German         Williams   \n",
            "3     Fernando Alonso  1981-07-29            Spanish          Renault   \n",
            "4   Heikki Kovalainen  1981-10-19            Finnish          McLaren   \n",
            "5     Kazuki Nakajima  1985-01-11           Japanese         Williams   \n",
            "6  Sébastien Bourdais  1979-02-28             French       Toro Rosso   \n",
            "7      Kimi Räikkönen  1979-10-17            Finnish          Ferrari   \n",
            "8       Robert Kubica  1984-12-07             Polish       BMW Sauber   \n",
            "9          Timo Glock  1982-03-18             German           Toyota   \n",
            "\n",
            "  constructor_nationality     status  \n",
            "0                 British   Finished  \n",
            "1                  German   Finished  \n",
            "2                 British   Finished  \n",
            "3                  French   Finished  \n",
            "4                 British   Finished  \n",
            "5                 British     +1 Lap  \n",
            "6                 Italian     Engine  \n",
            "7                 Italian     Engine  \n",
            "8                  German  Collision  \n",
            "9                Japanese   Accident  \n"
          ]
        }
      ],
      "source": [
        "import pandas as pd\n",
        "\n",
        "file_path = 'f1_data.csv'\n",
        "df = pd.read_csv(file_path)\n",
        "\n",
        "pd.set_option('display.max_columns', None)\n",
        "\n",
        "print(df.head(10))"
      ]
    },
    {
      "cell_type": "code",
      "execution_count": 44,
      "metadata": {
        "colab": {
          "base_uri": "https://localhost:8080/"
        },
        "id": "06lP44uMlb3g",
        "outputId": "145ffdff-159f-40e8-bde6-95368bc884c2"
      },
      "outputs": [
        {
          "name": "stdout",
          "output_type": "stream",
          "text": [
            "26080\n",
            "27\n"
          ]
        }
      ],
      "source": [
        "print(len(df))\n",
        "print(len(df.columns))"
      ]
    },
    {
      "cell_type": "code",
      "execution_count": 45,
      "metadata": {
        "colab": {
          "base_uri": "https://localhost:8080/",
          "height": 903
        },
        "id": "2TV943_yImtU",
        "outputId": "b7f06c12-df66-42cf-f3a3-553aebb54737"
      },
      "outputs": [
        {
          "data": {
            "text/plain": [
              "car_number                 float64\n",
              "grid_starting_position       int64\n",
              "final_position             float64\n",
              "points                     float64\n",
              "laps                         int64\n",
              "total_race_time_ms         float64\n",
              "fastest_lap                float64\n",
              "rank                       float64\n",
              "fastest_lap_time            object\n",
              "fastest_lap_speed          float64\n",
              "year                         int64\n",
              "race_number_season           int64\n",
              "race_name                   object\n",
              "race_date                   object\n",
              "race_start_time             object\n",
              "circuit_name                object\n",
              "circuit_location            object\n",
              "circuit_country             object\n",
              "circuit_lat                float64\n",
              "circuit_lng                float64\n",
              "circuit_altitude           float64\n",
              "driver                      object\n",
              "driver_dob                  object\n",
              "driver_nationality          object\n",
              "constructor_name            object\n",
              "constructor_nationality     object\n",
              "status                      object\n",
              "dtype: object"
            ]
          },
          "execution_count": 45,
          "metadata": {},
          "output_type": "execute_result"
        }
      ],
      "source": [
        "df.dtypes"
      ]
    },
    {
      "cell_type": "code",
      "execution_count": 46,
      "metadata": {
        "id": "PC6XY1W0Irko"
      },
      "outputs": [],
      "source": [
        "df['driver_dob'] = pd.to_datetime(df['driver_dob'])\n",
        "df['race_date'] = pd.to_datetime(df['race_date'])\n",
        "\n",
        "df['age'] = ((df['race_date'] - df['driver_dob']).dt.days) / 365.25"
      ]
    },
    {
      "cell_type": "markdown",
      "metadata": {
        "id": "NHu7mIielb3h"
      },
      "source": [
        "## 🛠️ Constructor Analytics: Key Insights\n",
        "\n",
        "We used the dataset to identify constructors with notable records in Formula 1 history. Each insight below was derived by querying and aggregating the race data:\n",
        "\n",
        "- **Constructor with the Most Wins**: We filtered all races where a team finished 1st (`final_position == 1`) and found the constructor that appears most frequently among winners. This reveals the most successful constructor in terms of race victories.\n",
        "\n",
        "- **Constructor with the Most Podiums**: We expanded the filter to include all podium positions (1st, 2nd, and 3rd), and identified the constructor that has appeared on the podium most often.\n",
        "\n",
        "- **Constructor with the Most Unfinished Races**: Using `NaN` values in `final_position` as an indicator of a \"Did Not Finish\" (DNF), we identified the constructor most frequently associated with retirements or disqualifications.\n",
        "\n",
        "- **Nationality with the Most Wins**: By looking at the `constructor_nationality` field for all race wins, we determined which country has produced the most winning teams.\n",
        "\n",
        "- **Constructor with the Longest Presence in F1**: By finding the most frequently appearing constructor in the dataset overall (across all races), we inferred which team has had the longest history in the sport.\n",
        "\n",
        "- **Constructor with the Most Unique Drivers**: Finally, we grouped the data by constructor and counted the number of unique drivers who have raced for each one. This gives insight into which team has rotated through the most talent over the years.\n",
        "\n",
        "The following code block executes these queries to surface these historical insights from the dataset."
      ]
    },
    {
      "cell_type": "code",
      "execution_count": 47,
      "metadata": {
        "colab": {
          "base_uri": "https://localhost:8080/"
        },
        "id": "Dw-jCN40lb3h",
        "outputId": "a188b6d1-6594-4fba-c1fd-3561d711fe78"
      },
      "outputs": [
        {
          "name": "stdout",
          "output_type": "stream",
          "text": [
            "Ferrari\n",
            "Ferrari\n",
            "Ferrari\n",
            "British\n",
            "Ferrari\n",
            "Ferrari\n"
          ]
        }
      ],
      "source": [
        "most_wins_constructor = df[df['final_position'] == 1]['constructor_name'].mode()[0]\n",
        "\n",
        "print(most_wins_constructor)\n",
        "\n",
        "most_podiums_constructor = df[(df['final_position'] == 1) | (df['final_position'] == 2) | (df['final_position'] == 3)]['constructor_name'].mode()[0]\n",
        "\n",
        "print(most_podiums_constructor)\n",
        "\n",
        "most_unfinished_constructor = df[pd.isna(df['final_position'])]['constructor_name'].mode()[0]\n",
        "\n",
        "print(most_unfinished_constructor)\n",
        "\n",
        "most_wins_nationality = df[df['final_position'] == 1]['constructor_nationality'].mode()[0]\n",
        "\n",
        "print(most_wins_nationality)\n",
        "\n",
        "longest_history_constructors = df['constructor_name'].mode()[0]\n",
        "\n",
        "print(longest_history_constructors)\n",
        "\n",
        "constructor_driver_counts = df.groupby('constructor_name')['driver'].nunique()\n",
        "most_drivers_constructor = constructor_driver_counts.idxmax()\n",
        "\n",
        "print(most_drivers_constructor)\n",
        "\n",
        "\n"
      ]
    },
    {
      "cell_type": "markdown",
      "metadata": {
        "id": "8to8M4owlb3h"
      },
      "source": [
        "## 🔍 Driver Analytics: What We Explored\n",
        "\n",
        "Using the full race history dataset, we performed a series of targeted analytics to better understand individual and national-level performance in Formula 1. Here’s what was calculated and how:\n",
        "\n",
        "- **Fastest Driver**: Based on performance data, we identified the driver with the highest win ratio relative to their number of races, giving us insight into who maximized their opportunities best.\n",
        "\n",
        "- **Most Podiums Without a Win**: We filtered for drivers who never won a race (no 1st-place finishes) and determined who had the most podium finishes (2nd or 3rd place) despite never reaching the top step.\n",
        "\n",
        "- **Podium Probability by Country**: For each driver nationality, we calculated the historical probability of having a driver finish on the podium. This was done by dividing the number of podium finishes by the total number of race entries for that nationality.\n",
        "\n",
        "- **Win Probability by Country**: Similarly, we computed the probability of each country producing a race-winning driver, again normalized by total race entries.\n",
        "\n",
        "- **Youngest Race Winner**: We found the youngest driver to win a Formula 1 race by comparing driver birthdates with the race dates of their first win.\n",
        "\n",
        "- **Current Drivers with the Longest History**: Finally, we looked at the list of drivers active in the most recent season and determined who among them has the longest tenure in F1, measured by the number of races entered.\n",
        "\n",
        "Each of these analyses was calculated programmatically using pandas, and the next code block walks through exactly how it was done."
      ]
    },
    {
      "cell_type": "code",
      "execution_count": 48,
      "metadata": {
        "colab": {
          "base_uri": "https://localhost:8080/"
        },
        "id": "T8MyRiMrlb3h",
        "outputId": "a77f45bd-a36b-4d8c-dea0-3d28acbf1689"
      },
      "outputs": [
        {
          "name": "stdout",
          "output_type": "stream",
          "text": [
            "Antônio Pizzonia\n",
            "Nick Heidfeld\n",
            "driver_nationality\n",
            "British          0.225865\n",
            "German           0.125987\n",
            "French           0.093807\n",
            "Brazilian        0.088950\n",
            "Finnish          0.074378\n",
            "Italian          0.062842\n",
            "Australian       0.039466\n",
            "American         0.039162\n",
            "Spanish          0.036733\n",
            "Austrian         0.035823\n",
            "Argentine        0.029751\n",
            "Dutch            0.027626\n",
            "New Zealander    0.021554\n",
            "Belgian          0.013661\n",
            "Swedish          0.013358\n",
            "Mexican          0.012143\n",
            "Canadian         0.011840\n",
            "South African    0.010929\n",
            "Swiss            0.010929\n",
            "Colombian        0.009107\n",
            "Monegasque       0.008500\n",
            "Polish           0.003643\n",
            "Russian          0.001214\n",
            "Japanese         0.000911\n",
            "Thai             0.000607\n",
            "Portuguese       0.000304\n",
            "Rhodesian        0.000304\n",
            "Venezuelan       0.000304\n",
            "Danish           0.000304\n",
            "Name: count, dtype: float64\n",
            "driver_nationality\n",
            "British          0.282450\n",
            "German           0.163620\n",
            "Brazilian        0.092322\n",
            "French           0.074040\n",
            "Finnish          0.052102\n",
            "Dutch            0.041133\n",
            "Italian          0.039305\n",
            "Australian       0.039305\n",
            "Austrian         0.037477\n",
            "Argentine        0.034735\n",
            "American         0.030165\n",
            "Spanish          0.030165\n",
            "Canadian         0.015539\n",
            "New Zealander    0.010969\n",
            "Swedish          0.010969\n",
            "Belgian          0.010055\n",
            "South African    0.009141\n",
            "Mexican          0.007313\n",
            "Swiss            0.006399\n",
            "Colombian        0.006399\n",
            "Monegasque       0.004570\n",
            "Venezuelan       0.000914\n",
            "Polish           0.000914\n",
            "Name: count, dtype: float64\n",
            "Max Verstappen\n"
          ]
        }
      ],
      "source": [
        "average_lap_times_driver = df.groupby('driver')['fastest_lap_speed'].mean()\n",
        "fastest_driver = average_lap_times_driver.idxmax()\n",
        "\n",
        "print(fastest_driver)\n",
        "\n",
        "driver_most_podiums_no_win = df[df['final_position'] == 1]['constructor_nationality'].mode()[0]\n",
        "\n",
        "podium_drivers = df[df['final_position'].isin([2, 3])]\n",
        "\n",
        "drivers_with_wins = df[df['final_position'] == 1]['driver'].unique()\n",
        "podium_without_win = podium_drivers[~podium_drivers['driver'].isin(drivers_with_wins)]\n",
        "\n",
        "podium_counts = podium_without_win['driver'].value_counts()\n",
        "\n",
        "most_podiums_driver = podium_counts.idxmax()\n",
        "\n",
        "print(most_podiums_driver)\n",
        "\n",
        "podium_finishes = df[df['final_position'].isin([1, 2, 3])]\n",
        "country_podium_counts = podium_finishes['driver_nationality'].value_counts()\n",
        "total_podiums = country_podium_counts.sum()\n",
        "\n",
        "country_probabilities_podium = (country_podium_counts / total_podiums)\n",
        "\n",
        "print(country_probabilities_podium)\n",
        "\n",
        "win_finishes= df[df['final_position'] == 1]\n",
        "country_win_counts = win_finishes['driver_nationality'].value_counts()\n",
        "total_wins = country_win_counts.sum()\n",
        "\n",
        "country_probabilities_win = (country_win_counts)/total_wins\n",
        "\n",
        "print(country_probabilities_win)\n",
        "\n",
        "win_finishes= df[df['final_position'] == 1]\n",
        "youngest_winner = win_finishes.loc[win_finishes['age'].idxmin()]\n",
        "\n",
        "print(youngest_winner['driver'])\n",
        "\n",
        "\n",
        "\n",
        "\n",
        "\n",
        "\n"
      ]
    },
    {
      "cell_type": "markdown",
      "metadata": {
        "id": "OVtpU5cTlb3i"
      },
      "source": [
        "## 🏁 Circuit Analytics: Track-Level Insights from F1 History\n",
        "\n",
        "To gain a deeper understanding of how circuits influence race outcomes and driver performance, we analyzed race data across all Grand Prix venues. Here’s a breakdown of the key circuit-level insights we extracted:\n",
        "\n",
        "- **Toughest Circuit in Formula 1**: We identified the circuit with the highest proportion of non-finishers (DNFs) over time. This was based on how often drivers failed to complete the race at each track, making it a strong indicator of circuit difficulty.\n",
        "\n",
        "- **Circuit Requiring the Most Experience to Win**: By calculating the average number of races completed by drivers before winning at each track, we determined which circuit historically demands the most experience from its winners.\n",
        "\n",
        "- **Circuit and Year with the Most DNFs**: We searched for the single race event (a combination of circuit and year) that recorded the highest number of unfinished races. This points to a particularly chaotic or challenging race in F1 history.\n",
        "\n",
        "- **Best Circuit per Constructor (Podium Count)**: For each constructor, we determined their most successful track by counting the number of podium finishes (P1–P3) they've achieved at each circuit. This helps highlight which teams have historically performed better at specific venues.\n",
        "\n",
        "Each of these insights helps paint a clearer picture of how circuits impact the sport — from testing driver endurance and skill to rewarding constructor-specific strengths. The code that follows performs these computations."
      ]
    },
    {
      "cell_type": "code",
      "execution_count": 49,
      "metadata": {
        "colab": {
          "base_uri": "https://localhost:8080/",
          "height": 442
        },
        "id": "ZKriy1dXlb3i",
        "outputId": "3a65a7c7-859c-4025-c839-616dd34c4b81"
      },
      "outputs": [
        {
          "data": {
            "text/html": [
              "<div>\n",
              "<style scoped>\n",
              "    .dataframe tbody tr th:only-of-type {\n",
              "        vertical-align: middle;\n",
              "    }\n",
              "\n",
              "    .dataframe tbody tr th {\n",
              "        vertical-align: top;\n",
              "    }\n",
              "\n",
              "    .dataframe thead th {\n",
              "        text-align: right;\n",
              "    }\n",
              "</style>\n",
              "<table border=\"1\" class=\"dataframe\">\n",
              "  <thead>\n",
              "    <tr style=\"text-align: right;\">\n",
              "      <th></th>\n",
              "      <th>nan_count</th>\n",
              "      <th>non_nan_count</th>\n",
              "      <th>ratio</th>\n",
              "    </tr>\n",
              "    <tr>\n",
              "      <th>circuit_name</th>\n",
              "      <th></th>\n",
              "      <th></th>\n",
              "      <th></th>\n",
              "    </tr>\n",
              "  </thead>\n",
              "  <tbody>\n",
              "    <tr>\n",
              "      <th>Fair Park</th>\n",
              "      <td>18</td>\n",
              "      <td>8</td>\n",
              "      <td>2.250000</td>\n",
              "    </tr>\n",
              "    <tr>\n",
              "      <th>Phoenix street circuit</th>\n",
              "      <td>72</td>\n",
              "      <td>36</td>\n",
              "      <td>2.000000</td>\n",
              "    </tr>\n",
              "    <tr>\n",
              "      <th>Sebring International Raceway</th>\n",
              "      <td>12</td>\n",
              "      <td>7</td>\n",
              "      <td>1.714286</td>\n",
              "    </tr>\n",
              "    <tr>\n",
              "      <th>Detroit Street Circuit</th>\n",
              "      <td>119</td>\n",
              "      <td>72</td>\n",
              "      <td>1.652778</td>\n",
              "    </tr>\n",
              "    <tr>\n",
              "      <th>Long Beach</th>\n",
              "      <td>137</td>\n",
              "      <td>83</td>\n",
              "      <td>1.650602</td>\n",
              "    </tr>\n",
              "    <tr>\n",
              "      <th>...</th>\n",
              "      <td>...</td>\n",
              "      <td>...</td>\n",
              "      <td>...</td>\n",
              "    </tr>\n",
              "    <tr>\n",
              "      <th>Yas Marina Circuit</th>\n",
              "      <td>41</td>\n",
              "      <td>255</td>\n",
              "      <td>0.160784</td>\n",
              "    </tr>\n",
              "    <tr>\n",
              "      <th>Valencia Street Circuit</th>\n",
              "      <td>13</td>\n",
              "      <td>99</td>\n",
              "      <td>0.131313</td>\n",
              "    </tr>\n",
              "    <tr>\n",
              "      <th>Losail International Circuit</th>\n",
              "      <td>2</td>\n",
              "      <td>18</td>\n",
              "      <td>0.111111</td>\n",
              "    </tr>\n",
              "    <tr>\n",
              "      <th>Miami International Autodrome</th>\n",
              "      <td>3</td>\n",
              "      <td>37</td>\n",
              "      <td>0.081081</td>\n",
              "    </tr>\n",
              "    <tr>\n",
              "      <th>Autódromo Internacional do Algarve</th>\n",
              "      <td>2</td>\n",
              "      <td>38</td>\n",
              "      <td>0.052632</td>\n",
              "    </tr>\n",
              "  </tbody>\n",
              "</table>\n",
              "<p>76 rows × 3 columns</p>\n",
              "</div>"
            ],
            "text/plain": [
              "                                    nan_count  non_nan_count     ratio\n",
              "circuit_name                                                          \n",
              "Fair Park                                  18              8  2.250000\n",
              "Phoenix street circuit                     72             36  2.000000\n",
              "Sebring International Raceway              12              7  1.714286\n",
              "Detroit Street Circuit                    119             72  1.652778\n",
              "Long Beach                                137             83  1.650602\n",
              "...                                       ...            ...       ...\n",
              "Yas Marina Circuit                         41            255  0.160784\n",
              "Valencia Street Circuit                    13             99  0.131313\n",
              "Losail International Circuit                2             18  0.111111\n",
              "Miami International Autodrome               3             37  0.081081\n",
              "Autódromo Internacional do Algarve          2             38  0.052632\n",
              "\n",
              "[76 rows x 3 columns]"
            ]
          },
          "execution_count": 49,
          "metadata": {},
          "output_type": "execute_result"
        }
      ],
      "source": [
        "races_per_circuit = (\n",
        "    df.groupby('circuit_name')['final_position']\n",
        "    .agg(\n",
        "        nan_count=lambda x: x.isna().sum(),\n",
        "        non_nan_count=lambda x: (~x.isna()).sum()\n",
        "    )\n",
        "    .assign(ratio=lambda x: x['nan_count'] / x['non_nan_count'])\n",
        "    .sort_values(by='ratio', ascending=False)\n",
        ")\n",
        "\n",
        "races_per_circuit"
      ]
    },
    {
      "cell_type": "code",
      "execution_count": 50,
      "metadata": {
        "colab": {
          "base_uri": "https://localhost:8080/",
          "height": 34
        },
        "id": "4Tm3aVaIeYQn",
        "outputId": "a51b502b-97f5-48e3-b2a6-3502047412eb"
      },
      "outputs": [
        {
          "data": {
            "text/plain": [
              "'Swiss Grand Prix'"
            ]
          },
          "execution_count": 50,
          "metadata": {},
          "output_type": "execute_result"
        }
      ],
      "source": [
        "winners = df[df['final_position'] == 1]\n",
        "\n",
        "average_age_per_race = winners.groupby('race_name')['age'].mean()\n",
        "average_age_per_race.idxmax()"
      ]
    },
    {
      "cell_type": "code",
      "execution_count": 51,
      "metadata": {
        "colab": {
          "base_uri": "https://localhost:8080/"
        },
        "id": "8cZj-0RggfQd",
        "outputId": "09221ac3-6286-45f0-f374-d3c99f8ac203"
      },
      "outputs": [
        {
          "data": {
            "text/plain": [
              "(1989, 'Australian Grand Prix')"
            ]
          },
          "execution_count": 51,
          "metadata": {},
          "output_type": "execute_result"
        }
      ],
      "source": [
        "non_finishes = df[df['final_position'].isna()]\n",
        "non_finishes_count = non_finishes.groupby(['year','race_name']).size()\n",
        "year_race_with_max_non_finishes = non_finishes_count.idxmax()\n",
        "\n",
        "year_race_with_max_non_finishes"
      ]
    },
    {
      "cell_type": "code",
      "execution_count": 52,
      "metadata": {},
      "outputs": [
        {
          "data": {
            "text/plain": [
              "constructor_name  circuit_name                \n",
              "Alfa Romeo        Autodromo Nazionale di Monza    1\n",
              "                  Circuit Bremgarten              2\n",
              "                  Circuit de Monaco               1\n",
              "                  Circuit de Pedralbes            1\n",
              "                  Circuit de Spa-Francorchamps    2\n",
              "dtype: int64"
            ]
          },
          "execution_count": 52,
          "metadata": {},
          "output_type": "execute_result"
        }
      ],
      "source": [
        "podiums_count.head()"
      ]
    },
    {
      "cell_type": "markdown",
      "metadata": {
        "id": "zOBlpH5Ilb3i"
      },
      "source": [
        "## 🧪 Driver Performance Clustering: How It Was Done\n",
        "\n",
        "To analyze and group Formula 1 drivers by performance, we used a clustering approach based on two carefully designed metrics:\n",
        "\n",
        "- **`ratio_points_per_race`**: This represents how efficiently a driver converts race starts into points, adjusted for different scoring systems and season lengths.\n",
        "- **`win_ratio`**: The percentage of races a driver won, reflecting their dominance and ability to finish first.\n",
        "\n",
        "These two ratios were used as input features for a **K-Means clustering algorithm**, which classified drivers into performance tiers (e.g., Elite, Consistent, Support). Before clustering, the features were **standardized** to ensure fair comparison, and after clustering, we interpreted and visualized the results using a 2D scatter plot with Plotly.\n",
        "\n",
        "The following code performs all of these steps."
      ]
    },
    {
      "cell_type": "code",
      "execution_count": 53,
      "metadata": {
        "colab": {
          "base_uri": "https://localhost:8080/"
        },
        "id": "jWzjrBuElb3i",
        "outputId": "8f3784cd-a37f-4741-83da-8b5352c2844e"
      },
      "outputs": [
        {
          "name": "stdout",
          "output_type": "stream",
          "text": [
            "               driver  row_count\n",
            "0     Fernando Alonso        370\n",
            "1      Kimi Räikkönen        352\n",
            "2  Rubens Barrichello        326\n",
            "3      Lewis Hamilton        322\n",
            "4       Jenson Button        309\n"
          ]
        }
      ],
      "source": [
        "# Check for inconsistencies in the driver column\n",
        "df_cleaned = df[['driver']].copy()\n",
        "\n",
        "# Handle missing values explicitly\n",
        "df_cleaned = df_cleaned.dropna()\n",
        "\n",
        "# Ensure the driver column is treated as a string\n",
        "df_cleaned['driver'] = df_cleaned['driver'].astype(str)\n",
        "\n",
        "# Calculate the correct row counts\n",
        "driver_row_counts_corrected = df_cleaned['driver'].value_counts().reset_index()\n",
        "\n",
        "# Rename columns for clarity\n",
        "driver_row_counts_corrected.columns = ['driver', 'row_count']\n",
        "\n",
        "# Sort the results by row_count in descending order\n",
        "driver_row_counts_corrected_sorted = driver_row_counts_corrected.sort_values(by='row_count', ascending=False).reset_index(drop=True)\n",
        "\n",
        "# Display the top rows of the corrected counts\n",
        "print(driver_row_counts_corrected_sorted.head())\n",
        "\n",
        "\n",
        "\n"
      ]
    },
    {
      "cell_type": "code",
      "execution_count": 54,
      "metadata": {
        "colab": {
          "base_uri": "https://localhost:8080/"
        },
        "id": "SRHmuJQAhTqv",
        "outputId": "b0ad7f50-0a2b-4ac2-92d8-3baf04bc567c"
      },
      "outputs": [
        {
          "name": "stdout",
          "output_type": "stream",
          "text": [
            "               driver  better_than_teammate_count\n",
            "0     Fernando Alonso                         241\n",
            "1      Lewis Hamilton                         199\n",
            "2  Michael Schumacher                         193\n",
            "3    Sebastian Vettel                         178\n",
            "4      Kimi Räikkönen                         175\n",
            "5       Jenson Button                         161\n",
            "6  Rubens Barrichello                         121\n",
            "7      Max Verstappen                         118\n",
            "8    Daniel Ricciardo                         115\n",
            "9        Sergio Pérez                         111\n"
          ]
        },
        {
          "name": "stderr",
          "output_type": "stream",
          "text": [
            "/var/folders/lv/gn03ly3n62g1g9qqycdm72800000gn/T/ipykernel_15163/2929749087.py:17: DeprecationWarning: DataFrameGroupBy.apply operated on the grouping columns. This behavior is deprecated, and in a future version of pandas the grouping columns will be excluded from the operation. Either pass `include_groups=False` to exclude the groupings or explicitly select the grouping columns after groupby to silence this warning.\n",
            "  df_comparison = df_filtered.groupby(['unique_race', 'constructor_name']).apply(calculate_better_finishes)\n"
          ]
        }
      ],
      "source": [
        "df_filtered = df[['driver', 'constructor_name', 'race_name', 'final_position', 'year']].copy()\n",
        "\n",
        "# Replace NaN in 'final_position' with 24 (for non-finishers)\n",
        "df_filtered['final_position'] = pd.to_numeric(df_filtered['final_position'], errors='coerce').fillna(24)\n",
        "\n",
        "# Combine race_name and year to create a unique race identifier\n",
        "df_filtered['unique_race'] = df_filtered['race_name'].astype(str) + \"_\" + df_filtered['year'].astype(str)\n",
        "\n",
        "# Function to compare drivers within a group\n",
        "def calculate_better_finishes(group):\n",
        "    # Sort by final position (lower is better)\n",
        "    group = group.sort_values('final_position').reset_index(drop=True)\n",
        "    group['better_than_teammate'] = group['final_position'] < group['final_position'].shift(-1)\n",
        "    return group\n",
        "\n",
        "# Group by unique_race and constructor_name to compare teammates\n",
        "df_comparison = df_filtered.groupby(['unique_race', 'constructor_name']).apply(calculate_better_finishes)\n",
        "\n",
        "# Count the number of races where a driver finished better than their teammate\n",
        "driver_better_counts = df_comparison.groupby('driver')['better_than_teammate'].sum().reset_index()\n",
        "\n",
        "# Rename the column for clarity\n",
        "driver_better_counts.columns = ['driver', 'better_than_teammate_count']\n",
        "\n",
        "# Order the results by better_than_teammate_count in descending order\n",
        "driver_better_counts = driver_better_counts.sort_values(by='better_than_teammate_count', ascending=False).reset_index(drop=True)\n",
        "\n",
        "# Display the ordered results\n",
        "print(driver_better_counts.head(10))  # Display the top drivers\n"
      ]
    },
    {
      "cell_type": "code",
      "execution_count": 55,
      "metadata": {
        "colab": {
          "base_uri": "https://localhost:8080/"
        },
        "id": "hv1moOrcukpa",
        "outputId": "8d28af0e-ecfe-4ff5-ede0-43350d4ce22c"
      },
      "outputs": [
        {
          "name": "stdout",
          "output_type": "stream",
          "text": [
            "                       driver  row_count  better_than_teammate_count  \\\n",
            "0                Dennis Poore          2                           2   \n",
            "1   Alberto Rodriguez Larreta          1                           1   \n",
            "2              Larry Crockett          1                           1   \n",
            "3                 Don Beauman          1                           1   \n",
            "4                Chuck Arnold          1                           1   \n",
            "5               Peter Broeker          1                           1   \n",
            "6                Oscar Gálvez          1                           1   \n",
            "7           Jonathan Williams          1                           1   \n",
            "8                 John Barber          1                           1   \n",
            "9              Robert La Caze          1                           1   \n",
            "10               George Amick          1                           1   \n",
            "11                 Guy Tunmer          1                           1   \n",
            "12               André Guelfi          1                           1   \n",
            "13               Heini Walter          1                           1   \n",
            "14                 Luiz Bueno          1                           1   \n",
            "15              Warwick Brown          1                           1   \n",
            "16              Peter Ashdown          1                           1   \n",
            "17                Fritz Riess          1                           1   \n",
            "18          Helmut Niedermayr          1                           1   \n",
            "19               Johnny Mantz          1                           1   \n",
            "\n",
            "    percentage_above_teammate  \n",
            "0                       100.0  \n",
            "1                       100.0  \n",
            "2                       100.0  \n",
            "3                       100.0  \n",
            "4                       100.0  \n",
            "5                       100.0  \n",
            "6                       100.0  \n",
            "7                       100.0  \n",
            "8                       100.0  \n",
            "9                       100.0  \n",
            "10                      100.0  \n",
            "11                      100.0  \n",
            "12                      100.0  \n",
            "13                      100.0  \n",
            "14                      100.0  \n",
            "15                      100.0  \n",
            "16                      100.0  \n",
            "17                      100.0  \n",
            "18                      100.0  \n",
            "19                      100.0  \n"
          ]
        }
      ],
      "source": [
        "# Merge DataFrames\n",
        "driver_combined = driver_row_counts_corrected_sorted.merge(driver_better_counts, on='driver', how='inner')\n",
        "\n",
        "# Calculate Percentage\n",
        "driver_combined['percentage_above_teammate'] = (\n",
        "    driver_combined['better_than_teammate_count'] / driver_combined['row_count'] * 100\n",
        ")\n",
        "\n",
        "# Sort Results\n",
        "driver_combined = driver_combined.sort_values(by='percentage_above_teammate', ascending=False).reset_index(drop=True)\n",
        "\n",
        "# Display or save the final DataFrame\n",
        "print(driver_combined.head(20))  # Show top drivers\n"
      ]
    },
    {
      "cell_type": "code",
      "execution_count": 56,
      "metadata": {
        "colab": {
          "base_uri": "https://localhost:8080/"
        },
        "id": "ZMOfIlnrJpB2",
        "outputId": "0cd7369c-9b06-4481-c40b-01f2703f3a4d"
      },
      "outputs": [
        {
          "name": "stdout",
          "output_type": "stream",
          "text": [
            "               driver  row_count  better_than_teammate_count  \\\n",
            "0         Juan Fangio         58                          40   \n",
            "1      Max Verstappen        175                         118   \n",
            "2     Fernando Alonso        370                         241   \n",
            "3  Michael Schumacher        308                         193   \n",
            "4       Mike Hawthorn         48                          30   \n",
            "5      Lewis Hamilton        322                         199   \n",
            "6           Jim Clark         73                          45   \n",
            "7      Richie Ginther         54                          33   \n",
            "8        Lando Norris         94                          57   \n",
            "9      George Russell         94                          57   \n",
            "\n",
            "   percentage_above_teammate  \n",
            "0                  68.965517  \n",
            "1                  67.428571  \n",
            "2                  65.135135  \n",
            "3                  62.662338  \n",
            "4                  62.500000  \n",
            "5                  61.801242  \n",
            "6                  61.643836  \n",
            "7                  61.111111  \n",
            "8                  60.638298  \n",
            "9                  60.638298  \n"
          ]
        },
        {
          "name": "stderr",
          "output_type": "stream",
          "text": [
            "/var/folders/lv/gn03ly3n62g1g9qqycdm72800000gn/T/ipykernel_15163/3607713303.py:24: DeprecationWarning: DataFrameGroupBy.apply operated on the grouping columns. This behavior is deprecated, and in a future version of pandas the grouping columns will be excluded from the operation. Either pass `include_groups=False` to exclude the groupings or explicitly select the grouping columns after groupby to silence this warning.\n",
            "  df_comparison = df_filtered.groupby(['unique_race', 'constructor_name']).apply(calculate_better_finishes)\n"
          ]
        }
      ],
      "source": [
        "# Correct Driver Counts\n",
        "df_cleaned = df[['driver']].copy()\n",
        "df_cleaned = df_cleaned.dropna()\n",
        "df_cleaned['driver'] = df_cleaned['driver'].astype(str)\n",
        "driver_row_counts_corrected = df_cleaned['driver'].value_counts().reset_index()\n",
        "driver_row_counts_corrected.columns = ['driver', 'row_count']\n",
        "driver_row_counts_corrected_sorted = driver_row_counts_corrected.sort_values(by='row_count', ascending=False).reset_index(drop=True)\n",
        "\n",
        "# Filter drivers with more than 45 races\n",
        "drivers_with_min_races_60 = driver_row_counts_corrected_sorted[driver_row_counts_corrected_sorted['row_count'] > 45]\n",
        "\n",
        "# Teammate Comparison DataFrame\n",
        "df_filtered = df[['driver', 'constructor_name', 'race_name', 'final_position', 'year']].copy()\n",
        "df_filtered['final_position'] = pd.to_numeric(df_filtered['final_position'], errors='coerce').fillna(24)\n",
        "df_filtered['unique_race'] = df_filtered['race_name'].astype(str) + \"_\" + df_filtered['year'].astype(str)\n",
        "\n",
        "\n",
        "def calculate_better_finishes(group):\n",
        "    group = group.sort_values('final_position').reset_index(drop=True)\n",
        "    group['better_than_teammate'] = group['final_position'] < group['final_position'].shift(-1)\n",
        "    return group\n",
        "\n",
        "\n",
        "df_comparison = df_filtered.groupby(['unique_race', 'constructor_name']).apply(calculate_better_finishes)\n",
        "driver_better_counts = df_comparison.groupby('driver')['better_than_teammate'].sum().reset_index()\n",
        "driver_better_counts.columns = ['driver', 'better_than_teammate_count']\n",
        "\n",
        "# Merge DataFrames\n",
        "driver_combined = drivers_with_min_races_60.merge(driver_better_counts, on='driver', how='inner')\n",
        "\n",
        "# Calculate Percentage\n",
        "driver_combined['percentage_above_teammate'] = (\n",
        "    driver_combined['better_than_teammate_count'] / driver_combined['row_count'] * 100\n",
        ")\n",
        "\n",
        "# Sort Results\n",
        "driver_combined = driver_combined.sort_values(by='percentage_above_teammate', ascending=False).reset_index(drop=True)\n",
        "\n",
        "# Display or save the final DataFrame\n",
        "print(driver_combined.head(10))  # Show top drivers\n"
      ]
    },
    {
      "cell_type": "code",
      "execution_count": 57,
      "metadata": {
        "colab": {
          "base_uri": "https://localhost:8080/",
          "height": 801
        },
        "id": "irSF0dOsKjcz",
        "outputId": "5a436734-6c3d-444b-daeb-005ccc692b39"
      },
      "outputs": [
        {
          "name": "stdout",
          "output_type": "stream",
          "text": [
            "              driver  final_position  corrected_points\n",
            "0     Lewis Hamilton             1.0                25\n",
            "1      Nick Heidfeld             2.0                18\n",
            "2       Nico Rosberg             3.0                15\n",
            "3    Fernando Alonso             4.0                12\n",
            "4  Heikki Kovalainen             5.0                10\n"
          ]
        },
        {
          "data": {
            "text/html": [
              "<div>\n",
              "<style scoped>\n",
              "    .dataframe tbody tr th:only-of-type {\n",
              "        vertical-align: middle;\n",
              "    }\n",
              "\n",
              "    .dataframe tbody tr th {\n",
              "        vertical-align: top;\n",
              "    }\n",
              "\n",
              "    .dataframe thead th {\n",
              "        text-align: right;\n",
              "    }\n",
              "</style>\n",
              "<table border=\"1\" class=\"dataframe\">\n",
              "  <thead>\n",
              "    <tr style=\"text-align: right;\">\n",
              "      <th></th>\n",
              "      <th>car_number</th>\n",
              "      <th>grid_starting_position</th>\n",
              "      <th>final_position</th>\n",
              "      <th>points</th>\n",
              "      <th>laps</th>\n",
              "      <th>total_race_time_ms</th>\n",
              "      <th>fastest_lap</th>\n",
              "      <th>rank</th>\n",
              "      <th>fastest_lap_time</th>\n",
              "      <th>fastest_lap_speed</th>\n",
              "      <th>year</th>\n",
              "      <th>race_number_season</th>\n",
              "      <th>race_name</th>\n",
              "      <th>race_date</th>\n",
              "      <th>race_start_time</th>\n",
              "      <th>circuit_name</th>\n",
              "      <th>circuit_location</th>\n",
              "      <th>circuit_country</th>\n",
              "      <th>circuit_lat</th>\n",
              "      <th>circuit_lng</th>\n",
              "      <th>circuit_altitude</th>\n",
              "      <th>driver</th>\n",
              "      <th>driver_dob</th>\n",
              "      <th>driver_nationality</th>\n",
              "      <th>constructor_name</th>\n",
              "      <th>constructor_nationality</th>\n",
              "      <th>status</th>\n",
              "      <th>age</th>\n",
              "      <th>corrected_points</th>\n",
              "    </tr>\n",
              "  </thead>\n",
              "  <tbody>\n",
              "    <tr>\n",
              "      <th>0</th>\n",
              "      <td>22.0</td>\n",
              "      <td>1</td>\n",
              "      <td>1.0</td>\n",
              "      <td>10.0</td>\n",
              "      <td>58</td>\n",
              "      <td>5690616.0</td>\n",
              "      <td>39.0</td>\n",
              "      <td>2.0</td>\n",
              "      <td>1:27.452</td>\n",
              "      <td>218.300</td>\n",
              "      <td>2008</td>\n",
              "      <td>1</td>\n",
              "      <td>Australian Grand Prix</td>\n",
              "      <td>2008-03-16</td>\n",
              "      <td>04:30:00</td>\n",
              "      <td>Albert Park Grand Prix Circuit</td>\n",
              "      <td>Melbourne</td>\n",
              "      <td>Australia</td>\n",
              "      <td>-37.8497</td>\n",
              "      <td>144.968</td>\n",
              "      <td>10.0</td>\n",
              "      <td>Lewis Hamilton</td>\n",
              "      <td>1985-01-07</td>\n",
              "      <td>British</td>\n",
              "      <td>McLaren</td>\n",
              "      <td>British</td>\n",
              "      <td>Finished</td>\n",
              "      <td>23.186858</td>\n",
              "      <td>25</td>\n",
              "    </tr>\n",
              "    <tr>\n",
              "      <th>1</th>\n",
              "      <td>3.0</td>\n",
              "      <td>5</td>\n",
              "      <td>2.0</td>\n",
              "      <td>8.0</td>\n",
              "      <td>58</td>\n",
              "      <td>5696094.0</td>\n",
              "      <td>41.0</td>\n",
              "      <td>3.0</td>\n",
              "      <td>1:27.739</td>\n",
              "      <td>217.586</td>\n",
              "      <td>2008</td>\n",
              "      <td>1</td>\n",
              "      <td>Australian Grand Prix</td>\n",
              "      <td>2008-03-16</td>\n",
              "      <td>04:30:00</td>\n",
              "      <td>Albert Park Grand Prix Circuit</td>\n",
              "      <td>Melbourne</td>\n",
              "      <td>Australia</td>\n",
              "      <td>-37.8497</td>\n",
              "      <td>144.968</td>\n",
              "      <td>10.0</td>\n",
              "      <td>Nick Heidfeld</td>\n",
              "      <td>1977-05-10</td>\n",
              "      <td>German</td>\n",
              "      <td>BMW Sauber</td>\n",
              "      <td>German</td>\n",
              "      <td>Finished</td>\n",
              "      <td>30.850103</td>\n",
              "      <td>18</td>\n",
              "    </tr>\n",
              "    <tr>\n",
              "      <th>2</th>\n",
              "      <td>7.0</td>\n",
              "      <td>7</td>\n",
              "      <td>3.0</td>\n",
              "      <td>6.0</td>\n",
              "      <td>58</td>\n",
              "      <td>5698779.0</td>\n",
              "      <td>41.0</td>\n",
              "      <td>5.0</td>\n",
              "      <td>1:28.090</td>\n",
              "      <td>216.719</td>\n",
              "      <td>2008</td>\n",
              "      <td>1</td>\n",
              "      <td>Australian Grand Prix</td>\n",
              "      <td>2008-03-16</td>\n",
              "      <td>04:30:00</td>\n",
              "      <td>Albert Park Grand Prix Circuit</td>\n",
              "      <td>Melbourne</td>\n",
              "      <td>Australia</td>\n",
              "      <td>-37.8497</td>\n",
              "      <td>144.968</td>\n",
              "      <td>10.0</td>\n",
              "      <td>Nico Rosberg</td>\n",
              "      <td>1985-06-27</td>\n",
              "      <td>German</td>\n",
              "      <td>Williams</td>\n",
              "      <td>British</td>\n",
              "      <td>Finished</td>\n",
              "      <td>22.718686</td>\n",
              "      <td>15</td>\n",
              "    </tr>\n",
              "    <tr>\n",
              "      <th>3</th>\n",
              "      <td>5.0</td>\n",
              "      <td>11</td>\n",
              "      <td>4.0</td>\n",
              "      <td>5.0</td>\n",
              "      <td>58</td>\n",
              "      <td>5707797.0</td>\n",
              "      <td>58.0</td>\n",
              "      <td>7.0</td>\n",
              "      <td>1:28.603</td>\n",
              "      <td>215.464</td>\n",
              "      <td>2008</td>\n",
              "      <td>1</td>\n",
              "      <td>Australian Grand Prix</td>\n",
              "      <td>2008-03-16</td>\n",
              "      <td>04:30:00</td>\n",
              "      <td>Albert Park Grand Prix Circuit</td>\n",
              "      <td>Melbourne</td>\n",
              "      <td>Australia</td>\n",
              "      <td>-37.8497</td>\n",
              "      <td>144.968</td>\n",
              "      <td>10.0</td>\n",
              "      <td>Fernando Alonso</td>\n",
              "      <td>1981-07-29</td>\n",
              "      <td>Spanish</td>\n",
              "      <td>Renault</td>\n",
              "      <td>French</td>\n",
              "      <td>Finished</td>\n",
              "      <td>26.631075</td>\n",
              "      <td>12</td>\n",
              "    </tr>\n",
              "    <tr>\n",
              "      <th>4</th>\n",
              "      <td>23.0</td>\n",
              "      <td>3</td>\n",
              "      <td>5.0</td>\n",
              "      <td>4.0</td>\n",
              "      <td>58</td>\n",
              "      <td>5708630.0</td>\n",
              "      <td>43.0</td>\n",
              "      <td>1.0</td>\n",
              "      <td>1:27.418</td>\n",
              "      <td>218.385</td>\n",
              "      <td>2008</td>\n",
              "      <td>1</td>\n",
              "      <td>Australian Grand Prix</td>\n",
              "      <td>2008-03-16</td>\n",
              "      <td>04:30:00</td>\n",
              "      <td>Albert Park Grand Prix Circuit</td>\n",
              "      <td>Melbourne</td>\n",
              "      <td>Australia</td>\n",
              "      <td>-37.8497</td>\n",
              "      <td>144.968</td>\n",
              "      <td>10.0</td>\n",
              "      <td>Heikki Kovalainen</td>\n",
              "      <td>1981-10-19</td>\n",
              "      <td>Finnish</td>\n",
              "      <td>McLaren</td>\n",
              "      <td>British</td>\n",
              "      <td>Finished</td>\n",
              "      <td>26.406571</td>\n",
              "      <td>10</td>\n",
              "    </tr>\n",
              "    <tr>\n",
              "      <th>5</th>\n",
              "      <td>8.0</td>\n",
              "      <td>13</td>\n",
              "      <td>6.0</td>\n",
              "      <td>3.0</td>\n",
              "      <td>57</td>\n",
              "      <td>NaN</td>\n",
              "      <td>50.0</td>\n",
              "      <td>14.0</td>\n",
              "      <td>1:29.639</td>\n",
              "      <td>212.974</td>\n",
              "      <td>2008</td>\n",
              "      <td>1</td>\n",
              "      <td>Australian Grand Prix</td>\n",
              "      <td>2008-03-16</td>\n",
              "      <td>04:30:00</td>\n",
              "      <td>Albert Park Grand Prix Circuit</td>\n",
              "      <td>Melbourne</td>\n",
              "      <td>Australia</td>\n",
              "      <td>-37.8497</td>\n",
              "      <td>144.968</td>\n",
              "      <td>10.0</td>\n",
              "      <td>Kazuki Nakajima</td>\n",
              "      <td>1985-01-11</td>\n",
              "      <td>Japanese</td>\n",
              "      <td>Williams</td>\n",
              "      <td>British</td>\n",
              "      <td>+1 Lap</td>\n",
              "      <td>23.175907</td>\n",
              "      <td>8</td>\n",
              "    </tr>\n",
              "    <tr>\n",
              "      <th>6</th>\n",
              "      <td>14.0</td>\n",
              "      <td>17</td>\n",
              "      <td>7.0</td>\n",
              "      <td>2.0</td>\n",
              "      <td>55</td>\n",
              "      <td>NaN</td>\n",
              "      <td>22.0</td>\n",
              "      <td>12.0</td>\n",
              "      <td>1:29.534</td>\n",
              "      <td>213.224</td>\n",
              "      <td>2008</td>\n",
              "      <td>1</td>\n",
              "      <td>Australian Grand Prix</td>\n",
              "      <td>2008-03-16</td>\n",
              "      <td>04:30:00</td>\n",
              "      <td>Albert Park Grand Prix Circuit</td>\n",
              "      <td>Melbourne</td>\n",
              "      <td>Australia</td>\n",
              "      <td>-37.8497</td>\n",
              "      <td>144.968</td>\n",
              "      <td>10.0</td>\n",
              "      <td>Sébastien Bourdais</td>\n",
              "      <td>1979-02-28</td>\n",
              "      <td>French</td>\n",
              "      <td>Toro Rosso</td>\n",
              "      <td>Italian</td>\n",
              "      <td>Engine</td>\n",
              "      <td>29.045859</td>\n",
              "      <td>6</td>\n",
              "    </tr>\n",
              "    <tr>\n",
              "      <th>7</th>\n",
              "      <td>1.0</td>\n",
              "      <td>15</td>\n",
              "      <td>8.0</td>\n",
              "      <td>1.0</td>\n",
              "      <td>53</td>\n",
              "      <td>NaN</td>\n",
              "      <td>20.0</td>\n",
              "      <td>4.0</td>\n",
              "      <td>1:27.903</td>\n",
              "      <td>217.180</td>\n",
              "      <td>2008</td>\n",
              "      <td>1</td>\n",
              "      <td>Australian Grand Prix</td>\n",
              "      <td>2008-03-16</td>\n",
              "      <td>04:30:00</td>\n",
              "      <td>Albert Park Grand Prix Circuit</td>\n",
              "      <td>Melbourne</td>\n",
              "      <td>Australia</td>\n",
              "      <td>-37.8497</td>\n",
              "      <td>144.968</td>\n",
              "      <td>10.0</td>\n",
              "      <td>Kimi Räikkönen</td>\n",
              "      <td>1979-10-17</td>\n",
              "      <td>Finnish</td>\n",
              "      <td>Ferrari</td>\n",
              "      <td>Italian</td>\n",
              "      <td>Engine</td>\n",
              "      <td>28.413415</td>\n",
              "      <td>4</td>\n",
              "    </tr>\n",
              "    <tr>\n",
              "      <th>8</th>\n",
              "      <td>4.0</td>\n",
              "      <td>2</td>\n",
              "      <td>NaN</td>\n",
              "      <td>0.0</td>\n",
              "      <td>47</td>\n",
              "      <td>NaN</td>\n",
              "      <td>15.0</td>\n",
              "      <td>9.0</td>\n",
              "      <td>1:28.753</td>\n",
              "      <td>215.100</td>\n",
              "      <td>2008</td>\n",
              "      <td>1</td>\n",
              "      <td>Australian Grand Prix</td>\n",
              "      <td>2008-03-16</td>\n",
              "      <td>04:30:00</td>\n",
              "      <td>Albert Park Grand Prix Circuit</td>\n",
              "      <td>Melbourne</td>\n",
              "      <td>Australia</td>\n",
              "      <td>-37.8497</td>\n",
              "      <td>144.968</td>\n",
              "      <td>10.0</td>\n",
              "      <td>Robert Kubica</td>\n",
              "      <td>1984-12-07</td>\n",
              "      <td>Polish</td>\n",
              "      <td>BMW Sauber</td>\n",
              "      <td>German</td>\n",
              "      <td>Collision</td>\n",
              "      <td>23.271732</td>\n",
              "      <td>0</td>\n",
              "    </tr>\n",
              "    <tr>\n",
              "      <th>9</th>\n",
              "      <td>12.0</td>\n",
              "      <td>18</td>\n",
              "      <td>NaN</td>\n",
              "      <td>0.0</td>\n",
              "      <td>43</td>\n",
              "      <td>NaN</td>\n",
              "      <td>23.0</td>\n",
              "      <td>13.0</td>\n",
              "      <td>1:29.558</td>\n",
              "      <td>213.166</td>\n",
              "      <td>2008</td>\n",
              "      <td>1</td>\n",
              "      <td>Australian Grand Prix</td>\n",
              "      <td>2008-03-16</td>\n",
              "      <td>04:30:00</td>\n",
              "      <td>Albert Park Grand Prix Circuit</td>\n",
              "      <td>Melbourne</td>\n",
              "      <td>Australia</td>\n",
              "      <td>-37.8497</td>\n",
              "      <td>144.968</td>\n",
              "      <td>10.0</td>\n",
              "      <td>Timo Glock</td>\n",
              "      <td>1982-03-18</td>\n",
              "      <td>German</td>\n",
              "      <td>Toyota</td>\n",
              "      <td>Japanese</td>\n",
              "      <td>Accident</td>\n",
              "      <td>25.995893</td>\n",
              "      <td>0</td>\n",
              "    </tr>\n",
              "  </tbody>\n",
              "</table>\n",
              "</div>"
            ],
            "text/plain": [
              "   car_number  grid_starting_position  final_position  points  laps  \\\n",
              "0        22.0                       1             1.0    10.0    58   \n",
              "1         3.0                       5             2.0     8.0    58   \n",
              "2         7.0                       7             3.0     6.0    58   \n",
              "3         5.0                      11             4.0     5.0    58   \n",
              "4        23.0                       3             5.0     4.0    58   \n",
              "5         8.0                      13             6.0     3.0    57   \n",
              "6        14.0                      17             7.0     2.0    55   \n",
              "7         1.0                      15             8.0     1.0    53   \n",
              "8         4.0                       2             NaN     0.0    47   \n",
              "9        12.0                      18             NaN     0.0    43   \n",
              "\n",
              "   total_race_time_ms  fastest_lap  rank fastest_lap_time  fastest_lap_speed  \\\n",
              "0           5690616.0         39.0   2.0         1:27.452            218.300   \n",
              "1           5696094.0         41.0   3.0         1:27.739            217.586   \n",
              "2           5698779.0         41.0   5.0         1:28.090            216.719   \n",
              "3           5707797.0         58.0   7.0         1:28.603            215.464   \n",
              "4           5708630.0         43.0   1.0         1:27.418            218.385   \n",
              "5                 NaN         50.0  14.0         1:29.639            212.974   \n",
              "6                 NaN         22.0  12.0         1:29.534            213.224   \n",
              "7                 NaN         20.0   4.0         1:27.903            217.180   \n",
              "8                 NaN         15.0   9.0         1:28.753            215.100   \n",
              "9                 NaN         23.0  13.0         1:29.558            213.166   \n",
              "\n",
              "   year  race_number_season              race_name  race_date race_start_time  \\\n",
              "0  2008                   1  Australian Grand Prix 2008-03-16        04:30:00   \n",
              "1  2008                   1  Australian Grand Prix 2008-03-16        04:30:00   \n",
              "2  2008                   1  Australian Grand Prix 2008-03-16        04:30:00   \n",
              "3  2008                   1  Australian Grand Prix 2008-03-16        04:30:00   \n",
              "4  2008                   1  Australian Grand Prix 2008-03-16        04:30:00   \n",
              "5  2008                   1  Australian Grand Prix 2008-03-16        04:30:00   \n",
              "6  2008                   1  Australian Grand Prix 2008-03-16        04:30:00   \n",
              "7  2008                   1  Australian Grand Prix 2008-03-16        04:30:00   \n",
              "8  2008                   1  Australian Grand Prix 2008-03-16        04:30:00   \n",
              "9  2008                   1  Australian Grand Prix 2008-03-16        04:30:00   \n",
              "\n",
              "                     circuit_name circuit_location circuit_country  \\\n",
              "0  Albert Park Grand Prix Circuit        Melbourne       Australia   \n",
              "1  Albert Park Grand Prix Circuit        Melbourne       Australia   \n",
              "2  Albert Park Grand Prix Circuit        Melbourne       Australia   \n",
              "3  Albert Park Grand Prix Circuit        Melbourne       Australia   \n",
              "4  Albert Park Grand Prix Circuit        Melbourne       Australia   \n",
              "5  Albert Park Grand Prix Circuit        Melbourne       Australia   \n",
              "6  Albert Park Grand Prix Circuit        Melbourne       Australia   \n",
              "7  Albert Park Grand Prix Circuit        Melbourne       Australia   \n",
              "8  Albert Park Grand Prix Circuit        Melbourne       Australia   \n",
              "9  Albert Park Grand Prix Circuit        Melbourne       Australia   \n",
              "\n",
              "   circuit_lat  circuit_lng  circuit_altitude              driver driver_dob  \\\n",
              "0     -37.8497      144.968              10.0      Lewis Hamilton 1985-01-07   \n",
              "1     -37.8497      144.968              10.0       Nick Heidfeld 1977-05-10   \n",
              "2     -37.8497      144.968              10.0        Nico Rosberg 1985-06-27   \n",
              "3     -37.8497      144.968              10.0     Fernando Alonso 1981-07-29   \n",
              "4     -37.8497      144.968              10.0   Heikki Kovalainen 1981-10-19   \n",
              "5     -37.8497      144.968              10.0     Kazuki Nakajima 1985-01-11   \n",
              "6     -37.8497      144.968              10.0  Sébastien Bourdais 1979-02-28   \n",
              "7     -37.8497      144.968              10.0      Kimi Räikkönen 1979-10-17   \n",
              "8     -37.8497      144.968              10.0       Robert Kubica 1984-12-07   \n",
              "9     -37.8497      144.968              10.0          Timo Glock 1982-03-18   \n",
              "\n",
              "  driver_nationality constructor_name constructor_nationality     status  \\\n",
              "0            British          McLaren                 British   Finished   \n",
              "1             German       BMW Sauber                  German   Finished   \n",
              "2             German         Williams                 British   Finished   \n",
              "3            Spanish          Renault                  French   Finished   \n",
              "4            Finnish          McLaren                 British   Finished   \n",
              "5           Japanese         Williams                 British     +1 Lap   \n",
              "6             French       Toro Rosso                 Italian     Engine   \n",
              "7            Finnish          Ferrari                 Italian     Engine   \n",
              "8             Polish       BMW Sauber                  German  Collision   \n",
              "9             German           Toyota                Japanese   Accident   \n",
              "\n",
              "         age  corrected_points  \n",
              "0  23.186858                25  \n",
              "1  30.850103                18  \n",
              "2  22.718686                15  \n",
              "3  26.631075                12  \n",
              "4  26.406571                10  \n",
              "5  23.175907                 8  \n",
              "6  29.045859                 6  \n",
              "7  28.413415                 4  \n",
              "8  23.271732                 0  \n",
              "9  25.995893                 0  "
            ]
          },
          "execution_count": 57,
          "metadata": {},
          "output_type": "execute_result"
        }
      ],
      "source": [
        "# Define the points mapping according to the current F1 system\n",
        "points_mapping = {\n",
        "    1: 25,\n",
        "    2: 18,\n",
        "    3: 15,\n",
        "    4: 12,\n",
        "    5: 10,\n",
        "    6: 8,\n",
        "    7: 6,\n",
        "    8: 4,\n",
        "    9: 2,\n",
        "    10: 1\n",
        "}\n",
        "\n",
        "# Apply the points system to create the corrected_points column\n",
        "df['corrected_points'] = df['final_position'].map(points_mapping).fillna(0).astype(int)\n",
        "\n",
        "# Display the updated DataFrame\n",
        "print(df[['driver', 'final_position', 'corrected_points']].head())\n",
        "\n",
        "df.head(10)"
      ]
    },
    {
      "cell_type": "code",
      "execution_count": 58,
      "metadata": {
        "colab": {
          "base_uri": "https://localhost:8080/"
        },
        "id": "nh5IGo44OyvI",
        "outputId": "eaae41de-8f37-40f1-ea92-219c5e869fc3"
      },
      "outputs": [
        {
          "name": "stdout",
          "output_type": "stream",
          "text": [
            "                driver  total_corrected_points  total_races  \\\n",
            "0       Lewis Hamilton                    4879          322   \n",
            "1          Juan Fangio                     873           58   \n",
            "2       Max Verstappen                    2266          175   \n",
            "3   Michael Schumacher                    3890          308   \n",
            "4          Alain Prost                    2483          202   \n",
            "5         Ayrton Senna                    1881          162   \n",
            "6            Jim Clark                     839           73   \n",
            "7       Jackie Stewart                    1109          100   \n",
            "8     Sebastian Vettel                    3287          300   \n",
            "9        Mike Hawthorn                     463           48   \n",
            "10          Damon Hill                    1091          122   \n",
            "11  Juan Pablo Montoya                     825           95   \n",
            "12        Nico Rosberg                    1739          206   \n",
            "13       Stirling Moss                     616           73   \n",
            "14         Denny Hulme                     940          112   \n",
            "15       Mika Häkkinen                    1382          165   \n",
            "16     Valtteri Bottas                    1761          213   \n",
            "17     Fernando Alonso                    3044          370   \n",
            "18     Charles Leclerc                     934          115   \n",
            "19       Nelson Piquet                    1678          207   \n",
            "20      Jody Scheckter                     896          113   \n",
            "21      Kimi Räikkönen                    2791          352   \n",
            "22       Nigel Mansell                    1509          192   \n",
            "23      Richie Ginther                     422           54   \n",
            "24    Carlos Reutemann                    1131          146   \n",
            "25          Niki Lauda                    1341          174   \n",
            "26       Bruce McLaren                     755          103   \n",
            "27        Jack Brabham                     939          129   \n",
            "28           Phil Hill                     367           52   \n",
            "29     David Coulthard                    1726          247   \n",
            "\n",
            "    ratio_points_per_race  \n",
            "0                0.606087  \n",
            "1                0.602069  \n",
            "2                0.517943  \n",
            "3                0.505195  \n",
            "4                0.491683  \n",
            "5                0.464444  \n",
            "6                0.459726  \n",
            "7                0.443600  \n",
            "8                0.438267  \n",
            "9                0.385833  \n",
            "10               0.357705  \n",
            "11               0.347368  \n",
            "12               0.337670  \n",
            "13               0.337534  \n",
            "14               0.335714  \n",
            "15               0.335030  \n",
            "16               0.330704  \n",
            "17               0.329081  \n",
            "18               0.324870  \n",
            "19               0.324251  \n",
            "20               0.317168  \n",
            "21               0.317159  \n",
            "22               0.314375  \n",
            "23               0.312593  \n",
            "24               0.309863  \n",
            "25               0.308276  \n",
            "26               0.293204  \n",
            "27               0.291163  \n",
            "28               0.282308  \n",
            "29               0.279514  \n"
          ]
        }
      ],
      "source": [
        "# Group by driver to calculate total corrected points and total races\n",
        "driver_performance_ratio = df.groupby('driver').agg(\n",
        "    total_corrected_points=('corrected_points', 'sum'),\n",
        "    total_races=('driver', 'count')  # Count the rows per driver as total races\n",
        ").reset_index()\n",
        "\n",
        "# Filter drivers with more than 45 races\n",
        "driver_performance_ratio = driver_performance_ratio[driver_performance_ratio['total_races'] > 45]\n",
        "\n",
        "# Calculate the ratio of corrected points to total races\n",
        "driver_performance_ratio['ratio_points_per_race'] = (\n",
        "    driver_performance_ratio['total_corrected_points'] / (driver_performance_ratio['total_races'] * 25)\n",
        ")\n",
        "\n",
        "# Sort by points_per_race in descending order\n",
        "driver_performance_ratio = driver_performance_ratio.sort_values(by='ratio_points_per_race', ascending=False).reset_index(drop=True)\n",
        "\n",
        "# Display the top rows of the sorted DataFrame\n",
        "print(driver_performance_ratio.head(30))\n",
        "\n",
        "#--\n"
      ]
    },
    {
      "cell_type": "code",
      "execution_count": 59,
      "metadata": {
        "colab": {
          "base_uri": "https://localhost:8080/"
        },
        "id": "9lHWPbvpY1sk",
        "outputId": "196eb446-9e36-402a-8b4b-d59b5ba577e1"
      },
      "outputs": [
        {
          "name": "stdout",
          "output_type": "stream",
          "text": [
            "                driver  wins_against_teammates  total_appearances  win_ratio\n",
            "0    Gabriele Tarquini                      73                 78   0.935897\n",
            "1        Nicola Larini                      67                 75   0.893333\n",
            "2       Yannick Dalmas                      44                 50   0.880000\n",
            "3   Manfred Winkelhock                      48                 55   0.872727\n",
            "4     Christian Danner                      41                 47   0.872340\n",
            "5   Piercarlo Ghinzani                      96                111   0.864865\n",
            "6           Alex Caffi                      64                 75   0.853333\n",
            "7      Bertrand Gachot                      71                 84   0.845238\n",
            "8       Stefano Modena                      67                 81   0.827160\n",
            "9      Jonathan Palmer                      71                 88   0.806818\n",
            "10  Olivier Grouillard                      50                 62   0.806452\n",
            "11  Emerson Fittipaldi                     120                149   0.805369\n",
            "12          Chris Amon                      84                106   0.792453\n",
            "13   Maurício Gugelmin                      63                 80   0.787500\n",
            "14           Mika Salo                      87                111   0.783784\n",
            "15   Pierluigi Martini                      96                123   0.780488\n",
            "16     Arturo Merzario                      65                 84   0.773810\n",
            "17       Derek Warwick                     125                162   0.771605\n",
            "18      Roberto Moreno                      57                 74   0.770270\n",
            "19  Vittorio Brambilla                      60                 78   0.769231\n"
          ]
        }
      ],
      "source": [
        "import pandas as pd\n",
        "\n",
        "# Filter relevant columns and create unique race identifier\n",
        "df_filtered = df[['driver', 'constructor_name', 'race_name', 'final_position', 'year']].copy()\n",
        "df_filtered['final_position'] = pd.to_numeric(df_filtered['final_position'], errors='coerce').fillna(24)\n",
        "df_filtered['unique_race'] = df_filtered['race_name'].astype(str) + \"_\" + df_filtered['year'].astype(str)\n",
        "\n",
        "# Identify the driver with the best (lowest) final position for each constructor in each race\n",
        "df_filtered['best_position'] = df_filtered.groupby(['unique_race', 'constructor_name'])['final_position'].transform('min')\n",
        "\n",
        "# Mark if the driver finished with the best position among teammates\n",
        "df_filtered['better_than_teammates'] = df_filtered['final_position'] == df_filtered['best_position']\n",
        "\n",
        "# Count the number of races where a driver beat all teammates\n",
        "driver_wins_against_teammates = df_filtered[df_filtered['better_than_teammates']].groupby('driver').size().reset_index(name='wins_against_teammates')\n",
        "\n",
        "# Calculate the count of times each driver appears in the dataset\n",
        "driver_appearance_count = df['driver'].value_counts().reset_index()\n",
        "driver_appearance_count.columns = ['driver', 'total_appearances']\n",
        "\n",
        "# Filter for drivers with more than 45 appearances\n",
        "drivers_with_min_races = driver_appearance_count[driver_appearance_count['total_appearances'] > 45]\n",
        "\n",
        "# Merge the appearance count with the driver_wins_against_teammates DataFrame\n",
        "driver_wins_against_teammates = driver_wins_against_teammates.merge(\n",
        "    drivers_with_min_races, on='driver', how='inner'\n",
        ")\n",
        "\n",
        "# Calculate the ratio of wins against teammates to total appearances\n",
        "driver_wins_against_teammates['win_ratio'] = (\n",
        "    driver_wins_against_teammates['wins_against_teammates'] /\n",
        "    driver_wins_against_teammates['total_appearances']\n",
        ")\n",
        "\n",
        "# Sort by the win_ratio in descending order\n",
        "driver_wins_against_teammates = driver_wins_against_teammates.sort_values(by='win_ratio', ascending=False).reset_index(drop=True)\n",
        "\n",
        "# Display the results\n",
        "print(driver_wins_against_teammates.head(20))\n",
        "\n",
        "\n",
        "\n",
        "\n",
        "\n",
        "\n",
        "\n"
      ]
    },
    {
      "cell_type": "code",
      "execution_count": 60,
      "metadata": {
        "colab": {
          "base_uri": "https://localhost:8080/"
        },
        "id": "QGFr6okFGvRr",
        "outputId": "aeb3c7c0-a37f-4452-a9ff-92df23aef8b7"
      },
      "outputs": [
        {
          "name": "stdout",
          "output_type": "stream",
          "text": [
            "                driver  ratio_points_per_race  win_ratio  combined_metric\n",
            "0          Juan Fangio               0.602069   0.655172         0.394459\n",
            "1       Lewis Hamilton               0.606087   0.627329         0.380216\n",
            "2       Max Verstappen               0.517943   0.697143         0.361080\n",
            "3         Ayrton Senna               0.464444   0.746914         0.346900\n",
            "4          Alain Prost               0.491683   0.702970         0.345639\n",
            "5   Michael Schumacher               0.505195   0.675325         0.341171\n",
            "6       Jackie Stewart               0.443600   0.660000         0.292776\n",
            "7            Jim Clark               0.459726   0.616438         0.283393\n",
            "8     Sebastian Vettel               0.438267   0.626667         0.274647\n",
            "9        Nelson Piquet               0.324251   0.729469         0.236531\n",
            "10     Fernando Alonso               0.329081   0.705405         0.232136\n",
            "11       Mika Häkkinen               0.335030   0.678788         0.227415\n",
            "12          Damon Hill               0.357705   0.614754         0.219901\n",
            "13  Emerson Fittipaldi               0.266846   0.805369         0.214909\n",
            "14      Jody Scheckter               0.317168   0.663717         0.210510\n",
            "15  Juan Pablo Montoya               0.347368   0.568421         0.197452\n",
            "16          James Hunt               0.270538   0.720430         0.194903\n",
            "17        Nico Rosberg               0.337670   0.572816         0.193423\n",
            "18     Charles Leclerc               0.324870   0.591304         0.192097\n",
            "19       Nigel Mansell               0.314375   0.593750         0.186660\n",
            "20          Alan Jones               0.241709   0.735043         0.177667\n",
            "21       Bruce McLaren               0.293204   0.601942         0.176492\n",
            "22      Kimi Räikkönen               0.317159   0.534091         0.169392\n",
            "23       Mike Hawthorn               0.385833   0.437500         0.168802\n",
            "24          Niki Lauda               0.308276   0.545977         0.168312\n",
            "25         Denny Hulme               0.335714   0.500000         0.167857\n",
            "26    Carlos Reutemann               0.309863   0.520548         0.161299\n",
            "27      Gerhard Berger               0.269905   0.585714         0.158087\n",
            "28        John Surtees               0.234286   0.660714         0.154796\n",
            "29     Jacques Laffite               0.204667   0.750000         0.153500\n"
          ]
        }
      ],
      "source": [
        "# Merge the two DataFrames on the 'driver' column\n",
        "combined_df = driver_performance_ratio.merge(\n",
        "    driver_wins_against_teammates[['driver', 'win_ratio']],\n",
        "    on='driver',\n",
        "    how='inner'\n",
        ")\n",
        "\n",
        "# Create a new column for the multiplication of ratio_points_per_race and win_ratio\n",
        "combined_df['combined_metric'] = combined_df['ratio_points_per_race'] * combined_df['win_ratio']\n",
        "\n",
        "# Sort by the combined_metric in descending order\n",
        "combined_df = combined_df.sort_values(by='combined_metric', ascending=False).reset_index(drop=True)\n",
        "\n",
        "# Display the resulting DataFrame\n",
        "print(combined_df[['driver', 'ratio_points_per_race', 'win_ratio', 'combined_metric']].head(30))\n"
      ]
    },
    {
      "cell_type": "code",
      "execution_count": 64,
      "metadata": {},
      "outputs": [
        {
          "name": "stdout",
          "output_type": "stream",
          "text": [
            "                 driver  total_corrected_points  total_races  \\\n",
            "0           Juan Fangio                     873           58   \n",
            "1        Lewis Hamilton                    4879          322   \n",
            "2        Max Verstappen                    2266          175   \n",
            "3          Ayrton Senna                    1881          162   \n",
            "4           Alain Prost                    2483          202   \n",
            "..                  ...                     ...          ...   \n",
            "163  Antonio Giovinazzi                      21           62   \n",
            "164  Narain Karthikeyan                      12           48   \n",
            "165     Marcus Ericsson                      18           97   \n",
            "166   Esteban Gutiérrez                       6           59   \n",
            "167     Nicholas Latifi                      10           61   \n",
            "\n",
            "     ratio_points_per_race  win_ratio  combined_metric  \n",
            "0                 0.602069   0.655172         0.394459  \n",
            "1                 0.606087   0.627329         0.380216  \n",
            "2                 0.517943   0.697143         0.361080  \n",
            "3                 0.464444   0.746914         0.346900  \n",
            "4                 0.491683   0.702970         0.345639  \n",
            "..                     ...        ...              ...  \n",
            "163               0.013548   0.354839         0.004807  \n",
            "164               0.010000   0.375000         0.003750  \n",
            "165               0.007423   0.484536         0.003597  \n",
            "166               0.004068   0.491525         0.001999  \n",
            "167               0.006557   0.295082         0.001935  \n",
            "\n",
            "[168 rows x 6 columns]\n"
          ]
        }
      ],
      "source": [
        "print(combined_df)"
      ]
    },
    {
      "cell_type": "code",
      "execution_count": 61,
      "metadata": {
        "colab": {
          "base_uri": "https://localhost:8080/",
          "height": 607
        },
        "id": "Qmz0ebndy6dA",
        "outputId": "32c76429-ca67-42f3-98a8-ea7849ddb865"
      },
      "outputs": [
        {
          "data": {
            "image/png": "[encoded data removed]",
            "text/plain": [
              "<Figure size 1000x600 with 1 Axes>"
            ]
          },
          "metadata": {},
          "output_type": "display_data"
        }
      ],
      "source": [
        "import matplotlib.pyplot as plt\n",
        "\n",
        "# Select the top 10 drivers by the combined metric\n",
        "top_10_drivers = combined_df.head(10)\n",
        "\n",
        "# Create the scatter plot\n",
        "plt.figure(figsize=(10, 6))\n",
        "plt.scatter(\n",
        "    top_10_drivers['win_ratio'],\n",
        "    top_10_drivers['ratio_points_per_race'],\n",
        "    color='blue',\n",
        "    s=100,\n",
        "    edgecolors='black'\n",
        ")\n",
        "\n",
        "# Annotate each point with the driver's name\n",
        "for i, row in top_10_drivers.iterrows():\n",
        "    plt.text(\n",
        "        row['win_ratio'] + 0.01,  # Slightly offset text to the right\n",
        "        row['ratio_points_per_race'],\n",
        "        row['driver'],\n",
        "        fontsize=9\n",
        "    )\n",
        "\n",
        "# Add titles and labels\n",
        "plt.title('Top 10 Drivers by Combined Metric', fontsize=16)\n",
        "plt.xlabel('Wins Against Teammates (X-axis)', fontsize=12)\n",
        "plt.ylabel('Ratio Points Per Race (Y-axis)', fontsize=12)\n",
        "plt.grid(True, linestyle='--', alpha=0.6)\n",
        "\n",
        "# Show the plot\n",
        "plt.tight_layout()\n",
        "plt.show()\n"
      ]
    },
    {
      "cell_type": "code",
      "execution_count": 80,
      "metadata": {},
      "outputs": [],
      "source": [
        "driver_summary = combined_df.groupby('driver').agg(\n",
        "    ratio_points_per_race=('ratio_points_per_race', 'mean'),\n",
        "    win_ratio=('win_ratio', 'mean')\n",
        ").reset_index()"
      ]
    },
    {
      "cell_type": "code",
      "execution_count": 81,
      "metadata": {},
      "outputs": [],
      "source": [
        "from sklearn.preprocessing import StandardScaler\n",
        "from sklearn.cluster import KMeans\n",
        "\n",
        "# Select only the two features\n",
        "X = driver_summary[['ratio_points_per_race', 'win_ratio']]\n",
        "\n",
        "# Normalize the features\n",
        "scaler = StandardScaler()\n",
        "X_scaled = scaler.fit_transform(X)"
      ]
    },
    {
      "cell_type": "code",
      "execution_count": 103,
      "metadata": {},
      "outputs": [],
      "source": [
        "kmeans = KMeans(n_clusters=6, random_state=42)\n",
        "driver_summary['cluster'] = kmeans.fit_predict(X_scaled)"
      ]
    },
    {
      "cell_type": "code",
      "execution_count": 104,
      "metadata": {},
      "outputs": [
        {
          "data": {
            "image/png": "[encoded data removed]",
            "text/plain": [
              "<Figure size 800x500 with 1 Axes>"
            ]
          },
          "metadata": {},
          "output_type": "display_data"
        }
      ],
      "source": [
        "from sklearn.cluster import KMeans\n",
        "import matplotlib.pyplot as plt\n",
        "\n",
        "inertia = []\n",
        "K = range(1, 10)\n",
        "\n",
        "for k in K:\n",
        "    kmeans = KMeans(n_clusters=k, random_state=42, n_init='auto')\n",
        "    kmeans.fit(X_scaled)\n",
        "    inertia.append(kmeans.inertia_)\n",
        "\n",
        "# Plot the elbow curve\n",
        "plt.figure(figsize=(8, 5))\n",
        "plt.plot(K, inertia, marker='o')\n",
        "plt.title('Elbow Method for Optimal k')\n",
        "plt.xlabel('Number of clusters')\n",
        "plt.ylabel('Inertia (within-cluster sum of squares)')\n",
        "plt.grid(True)\n",
        "plt.show()"
      ]
    },
    {
      "cell_type": "code",
      "execution_count": 109,
      "metadata": {},
      "outputs": [
        {
          "name": "stdout",
          "output_type": "stream",
          "text": [
            "Silhouette score for k=2: 0.313\n",
            "Silhouette score for k=3: 0.395\n",
            "Silhouette score for k=4: 0.365\n",
            "Silhouette score for k=5: 0.392\n",
            "Silhouette score for k=6: 0.426\n",
            "Silhouette score for k=7: 0.397\n",
            "Silhouette score for k=8: 0.374\n",
            "Silhouette score for k=9: 0.373\n"
          ]
        }
      ],
      "source": [
        "from sklearn.metrics import silhouette_score\n",
        "\n",
        "# Test silhouette scores for various cluster counts\n",
        "for k in range(2, 10):\n",
        "    kmeans = KMeans(n_clusters=k, random_state=42, n_init='auto')\n",
        "    labels = kmeans.fit_predict(X_scaled)\n",
        "    score = silhouette_score(X_scaled, labels)\n",
        "    print(f'Silhouette score for k={k}: {score:.3f}')"
      ]
    },
    {
      "cell_type": "code",
      "execution_count": 110,
      "metadata": {},
      "outputs": [],
      "source": [
        "# Optional: map clusters to tier labels (adjusted after exploring results)\n",
        "cluster_labels = {\n",
        "    0: 'Winners',\n",
        "    1: 'Poor',\n",
        "    2: 'Decent',\n",
        "    3: 'Underperformers',\n",
        "    4: 'Elite',\n",
        "    5: 'Overperformers'\n",
        "}\n",
        "driver_summary['performance_tier'] = driver_summary['cluster'].map(cluster_labels)"
      ]
    },
    {
      "cell_type": "code",
      "execution_count": 111,
      "metadata": {},
      "outputs": [
        {
          "data": {
            "image/png": "[encoded data removed]",
            "text/plain": [
              "<Figure size 1000x600 with 1 Axes>"
            ]
          },
          "metadata": {},
          "output_type": "display_data"
        }
      ],
      "source": [
        "import seaborn as sns\n",
        "\n",
        "plt.figure(figsize=(10, 6))\n",
        "sns.scatterplot(\n",
        "    data=driver_summary, \n",
        "    x='ratio_points_per_race', \n",
        "    y='win_ratio', \n",
        "    hue='performance_tier', \n",
        "    palette='Set2', \n",
        "    s=100\n",
        ")\n",
        "\n",
        "for i, row in driver_summary.iterrows():\n",
        "    plt.text(row['ratio_points_per_race'] + 0.002, row['win_ratio'], row['driver'], fontsize=8)\n",
        "\n",
        "plt.title('F1 Driver Performance Clusters (K-Means)')\n",
        "plt.xlabel('Points per Race (Ratio)')\n",
        "plt.ylabel('Win Ratio')\n",
        "plt.grid(True)\n",
        "plt.legend(title='Performance Tier')\n",
        "plt.show()"
      ]
    },
    {
      "cell_type": "code",
      "execution_count": 112,
      "metadata": {},
      "outputs": [
        {
          "data": {
            "application/vnd.plotly.v1+json": {
              "config": {
                "plotlyServerURL": "https://plot.ly"
              },
              "data": [
                {
                  "hovertemplate": "<b>%{hovertext}</b><br><br>performance_tier=Decent<br>Points per Race (Ratio)=%{x}<br>Win Ratio=%{y}<br>driver=%{text}<extra></extra>",
                  "hovertext": [
                    "Adrian Sutil",
                    "Aguri Suzuki",
                    "Alexander Albon",
                    "Bruno Senna",
                    "Carlos Pace",
                    "Christijan Albers",
                    "Eddie Cheever",
                    "Giancarlo Fisichella",
                    "Gianni Morbidelli",
                    "Hans-Joachim Stuck",
                    "Heikki Kovalainen",
                    "Jaime Alguersuari",
                    "Jarno Trulli",
                    "Jean-Pierre Jabouille",
                    "Jean-Pierre Jarier",
                    "Jochen Mass",
                    "Johnny Herbert",
                    "Jos Verstappen",
                    "Jyrki Järvilehto",
                    "Kamui Kobayashi",
                    "Luca Badoer",
                    "Mark Blundell",
                    "Martin Brundle",
                    "Michele Alboreto",
                    "Nico Hülkenberg",
                    "Olivier Panis",
                    "Pedro Diniz",
                    "Pedro de la Rosa",
                    "Philippe Alliot",
                    "Philippe Streiff",
                    "Pierre Gasly",
                    "Sébastien Buemi",
                    "Takuma Sato",
                    "Timo Glock",
                    "Ukyo Katayama",
                    "Vitantonio Liuzzi",
                    "Éric Bernard",
                    "Érik Comas"
                  ],
                  "legendgroup": "Decent",
                  "marker": {
                    "color": "#636efa",
                    "symbol": "circle"
                  },
                  "mode": "markers+text",
                  "name": "Decent",
                  "orientation": "v",
                  "showlegend": true,
                  "text": [
                    "Adrian Sutil",
                    "Aguri Suzuki",
                    "Alexander Albon",
                    "Bruno Senna",
                    "Carlos Pace",
                    "Christijan Albers",
                    "Eddie Cheever",
                    "Giancarlo Fisichella",
                    "Gianni Morbidelli",
                    "Hans-Joachim Stuck",
                    "Heikki Kovalainen",
                    "Jaime Alguersuari",
                    "Jarno Trulli",
                    "Jean-Pierre Jabouille",
                    "Jean-Pierre Jarier",
                    "Jochen Mass",
                    "Johnny Herbert",
                    "Jos Verstappen",
                    "Jyrki Järvilehto",
                    "Kamui Kobayashi",
                    "Luca Badoer",
                    "Mark Blundell",
                    "Martin Brundle",
                    "Michele Alboreto",
                    "Nico Hülkenberg",
                    "Olivier Panis",
                    "Pedro Diniz",
                    "Pedro de la Rosa",
                    "Philippe Alliot",
                    "Philippe Streiff",
                    "Pierre Gasly",
                    "Sébastien Buemi",
                    "Takuma Sato",
                    "Timo Glock",
                    "Ukyo Katayama",
                    "Vitantonio Liuzzi",
                    "Éric Bernard",
                    "Érik Comas"
                  ],
                  "textposition": "top center",
                  "type": "scatter",
                  "x": [
                    0.0428125,
                    0.04,
                    0.11943661971830986,
                    0.028695652173913042,
                    0.14082191780821918,
                    0.009565217391304347,
                    0.10097902097902098,
                    0.1625974025974026,
                    0.04857142857142857,
                    0.08148148148148149,
                    0.10107142857142858,
                    0.026956521739130435,
                    0.1265625,
                    0.04727272727272727,
                    0.06769230769230769,
                    0.1431578947368421,
                    0.12848484848484848,
                    0.044485981308411214,
                    0.05885714285714286,
                    0.06894736842105263,
                    0.01793103448275862,
                    0.12,
                    0.12993939393939394,
                    0.14269767441860465,
                    0.10591836734693877,
                    0.10810126582278481,
                    0.050101010101010104,
                    0.04747663551401869,
                    0.03234782608695652,
                    0.07407407407407407,
                    0.11633333333333333,
                    0.03127272727272727,
                    0.06021978021978022,
                    0.06231578947368421,
                    0.026804123711340205,
                    0.021728395061728394,
                    0.06723404255319149,
                    0.059682539682539684
                  ],
                  "xaxis": "x",
                  "y": [
                    0.546875,
                    0.6136363636363636,
                    0.5774647887323944,
                    0.5434782608695652,
                    0.589041095890411,
                    0.6304347826086957,
                    0.6853146853146853,
                    0.5584415584415584,
                    0.5285714285714286,
                    0.6666666666666666,
                    0.5535714285714286,
                    0.5652173913043478,
                    0.55859375,
                    0.6909090909090909,
                    0.6503496503496503,
                    0.5964912280701754,
                    0.5575757575757576,
                    0.6448598130841121,
                    0.5857142857142857,
                    0.6578947368421053,
                    0.6379310344827587,
                    0.6349206349206349,
                    0.6545454545454545,
                    0.6139534883720931,
                    0.5102040816326531,
                    0.6075949367088608,
                    0.5757575757575758,
                    0.6448598130841121,
                    0.6608695652173913,
                    0.6111111111111112,
                    0.5833333333333334,
                    0.5272727272727272,
                    0.5274725274725275,
                    0.5894736842105263,
                    0.5979381443298969,
                    0.5555555555555556,
                    0.6595744680851063,
                    0.6507936507936508
                  ],
                  "yaxis": "y"
                },
                {
                  "hovertemplate": "<b>%{hovertext}</b><br><br>performance_tier=Elite<br>Points per Race (Ratio)=%{x}<br>Win Ratio=%{y}<br>driver=%{text}<extra></extra>",
                  "hovertext": [
                    "Alain Prost",
                    "Ayrton Senna",
                    "Jackie Stewart",
                    "Jim Clark",
                    "Juan Fangio",
                    "Lewis Hamilton",
                    "Max Verstappen",
                    "Michael Schumacher",
                    "Sebastian Vettel"
                  ],
                  "legendgroup": "Elite",
                  "marker": {
                    "color": "#EF553B",
                    "symbol": "circle"
                  },
                  "mode": "markers+text",
                  "name": "Elite",
                  "orientation": "v",
                  "showlegend": true,
                  "text": [
                    "Alain Prost",
                    "Ayrton Senna",
                    "Jackie Stewart",
                    "Jim Clark",
                    "Juan Fangio",
                    "Lewis Hamilton",
                    "Max Verstappen",
                    "Michael Schumacher",
                    "Sebastian Vettel"
                  ],
                  "textposition": "top center",
                  "type": "scatter",
                  "x": [
                    0.4916831683168317,
                    0.46444444444444444,
                    0.4436,
                    0.45972602739726026,
                    0.6020689655172414,
                    0.6060869565217392,
                    0.5179428571428571,
                    0.5051948051948052,
                    0.4382666666666667
                  ],
                  "xaxis": "x",
                  "y": [
                    0.7029702970297029,
                    0.7469135802469136,
                    0.66,
                    0.6164383561643836,
                    0.6551724137931034,
                    0.6273291925465838,
                    0.6971428571428572,
                    0.6753246753246753,
                    0.6266666666666667
                  ],
                  "yaxis": "y"
                },
                {
                  "hovertemplate": "<b>%{hovertext}</b><br><br>performance_tier=Winners<br>Points per Race (Ratio)=%{x}<br>Win Ratio=%{y}<br>driver=%{text}<extra></extra>",
                  "hovertext": [
                    "Alan Jones",
                    "Alessandro Nannini",
                    "Dan Gurney",
                    "Didier Pironi",
                    "Elio de Angelis",
                    "Emerson Fittipaldi",
                    "Fernando Alonso",
                    "George Russell",
                    "Heinz-Harald Frentzen",
                    "Jacky Ickx",
                    "Jacques Laffite",
                    "James Hunt",
                    "Jean Alesi",
                    "Jean-Pierre Beltoise",
                    "Jenson Button",
                    "Jody Scheckter",
                    "John Surtees",
                    "John Watson",
                    "Keke Rosberg",
                    "Lando Norris",
                    "Mario Andretti",
                    "Mika Häkkinen",
                    "Nelson Piquet",
                    "Nick Heidfeld",
                    "Patrick Tambay",
                    "Pedro Rodríguez",
                    "René Arnoux",
                    "Riccardo Patrese",
                    "Stefan Johansson",
                    "Thierry Boutsen"
                  ],
                  "legendgroup": "Winners",
                  "marker": {
                    "color": "#00cc96",
                    "symbol": "circle"
                  },
                  "mode": "markers+text",
                  "name": "Winners",
                  "orientation": "v",
                  "showlegend": true,
                  "text": [
                    "Alan Jones",
                    "Alessandro Nannini",
                    "Dan Gurney",
                    "Didier Pironi",
                    "Elio de Angelis",
                    "Emerson Fittipaldi",
                    "Fernando Alonso",
                    "George Russell",
                    "Heinz-Harald Frentzen",
                    "Jacky Ickx",
                    "Jacques Laffite",
                    "James Hunt",
                    "Jean Alesi",
                    "Jean-Pierre Beltoise",
                    "Jenson Button",
                    "Jody Scheckter",
                    "John Surtees",
                    "John Watson",
                    "Keke Rosberg",
                    "Lando Norris",
                    "Mario Andretti",
                    "Mika Häkkinen",
                    "Nelson Piquet",
                    "Nick Heidfeld",
                    "Patrick Tambay",
                    "Pedro Rodríguez",
                    "René Arnoux",
                    "Riccardo Patrese",
                    "Stefan Johansson",
                    "Thierry Boutsen"
                  ],
                  "textposition": "top center",
                  "type": "scatter",
                  "x": [
                    0.24170940170940172,
                    0.13922077922077922,
                    0.22528735632183908,
                    0.23,
                    0.2018181818181818,
                    0.2668456375838926,
                    0.3290810810810811,
                    0.16042553191489362,
                    0.19622641509433963,
                    0.22479338842975208,
                    0.20466666666666666,
                    0.2705376344086021,
                    0.20455445544554454,
                    0.1724137931034483,
                    0.2393527508090615,
                    0.31716814159292034,
                    0.2342857142857143,
                    0.19116883116883118,
                    0.1859375,
                    0.20553191489361702,
                    0.20806201550387596,
                    0.335030303030303,
                    0.3242512077294686,
                    0.15804347826086956,
                    0.1580327868852459,
                    0.22,
                    0.1704878048780488,
                    0.1729182879377432,
                    0.14912621359223302,
                    0.15853658536585366
                  ],
                  "xaxis": "x",
                  "y": [
                    0.7350427350427351,
                    0.6753246753246753,
                    0.6666666666666666,
                    0.6388888888888888,
                    0.6909090909090909,
                    0.8053691275167785,
                    0.7054054054054054,
                    0.6382978723404256,
                    0.6855345911949685,
                    0.6694214876033058,
                    0.75,
                    0.7204301075268817,
                    0.6782178217821783,
                    0.6206896551724138,
                    0.6116504854368932,
                    0.6637168141592921,
                    0.6607142857142857,
                    0.6558441558441559,
                    0.6640625,
                    0.6170212765957447,
                    0.6201550387596899,
                    0.6787878787878788,
                    0.7294685990338164,
                    0.6304347826086957,
                    0.6311475409836066,
                    0.6666666666666666,
                    0.7012195121951219,
                    0.642023346303502,
                    0.7184466019417476,
                    0.6524390243902439
                  ],
                  "yaxis": "y"
                },
                {
                  "hovertemplate": "<b>%{hovertext}</b><br><br>performance_tier=Overperformers<br>Points per Race (Ratio)=%{x}<br>Win Ratio=%{y}<br>driver=%{text}<extra></extra>",
                  "hovertext": [
                    "Alex Caffi",
                    "Andrea de Cesaris",
                    "Arturo Merzario",
                    "Bertrand Gachot",
                    "Bruno Giacomelli",
                    "Chris Amon",
                    "Christian Danner",
                    "Derek Daly",
                    "Derek Warwick",
                    "Gabriele Tarquini",
                    "Ivan Capelli",
                    "Jonathan Palmer",
                    "Manfred Winkelhock",
                    "Marc Surer",
                    "Maurício Gugelmin",
                    "Mika Salo",
                    "Nicola Larini",
                    "Olivier Grouillard",
                    "Piercarlo Ghinzani",
                    "Pierluigi Martini",
                    "Roberto Moreno",
                    "Stefano Modena",
                    "Teo Fabi",
                    "Vittorio Brambilla",
                    "Yannick Dalmas"
                  ],
                  "legendgroup": "Overperformers",
                  "marker": {
                    "color": "#ab63fa",
                    "symbol": "circle"
                  },
                  "mode": "markers+text",
                  "name": "Overperformers",
                  "orientation": "v",
                  "showlegend": true,
                  "text": [
                    "Alex Caffi",
                    "Andrea de Cesaris",
                    "Arturo Merzario",
                    "Bertrand Gachot",
                    "Bruno Giacomelli",
                    "Chris Amon",
                    "Christian Danner",
                    "Derek Daly",
                    "Derek Warwick",
                    "Gabriele Tarquini",
                    "Ivan Capelli",
                    "Jonathan Palmer",
                    "Manfred Winkelhock",
                    "Marc Surer",
                    "Maurício Gugelmin",
                    "Mika Salo",
                    "Nicola Larini",
                    "Olivier Grouillard",
                    "Piercarlo Ghinzani",
                    "Pierluigi Martini",
                    "Roberto Moreno",
                    "Stefano Modena",
                    "Teo Fabi",
                    "Vittorio Brambilla",
                    "Yannick Dalmas"
                  ],
                  "textposition": "top center",
                  "type": "scatter",
                  "x": [
                    0.042133333333333335,
                    0.06560747663551401,
                    0.03333333333333333,
                    0.02142857142857143,
                    0.050731707317073174,
                    0.1479245283018868,
                    0.04425531914893617,
                    0.07375,
                    0.09950617283950618,
                    0.013333333333333334,
                    0.06571428571428571,
                    0.06227272727272727,
                    0.01890909090909091,
                    0.08409090909090909,
                    0.06,
                    0.09765765765765766,
                    0.0304,
                    0.016129032258064516,
                    0.014414414414414415,
                    0.061138211382113825,
                    0.04378378378378378,
                    0.047901234567901234,
                    0.07098591549295774,
                    0.07846153846153846,
                    0.024
                  ],
                  "xaxis": "x",
                  "y": [
                    0.8533333333333334,
                    0.7336448598130841,
                    0.7738095238095238,
                    0.8452380952380952,
                    0.7195121951219512,
                    0.7924528301886793,
                    0.8723404255319149,
                    0.71875,
                    0.7716049382716049,
                    0.9358974358974359,
                    0.7551020408163265,
                    0.8068181818181818,
                    0.8727272727272727,
                    0.7159090909090909,
                    0.7875,
                    0.7837837837837838,
                    0.8933333333333333,
                    0.8064516129032258,
                    0.8648648648648649,
                    0.7804878048780488,
                    0.7702702702702703,
                    0.8271604938271605,
                    0.7323943661971831,
                    0.7692307692307693,
                    0.88
                  ],
                  "yaxis": "y"
                },
                {
                  "hovertemplate": "<b>%{hovertext}</b><br><br>performance_tier=Poor<br>Points per Race (Ratio)=%{x}<br>Win Ratio=%{y}<br>driver=%{text}<extra></extra>",
                  "hovertext": [
                    "Alexander Wurz",
                    "Antonio Giovinazzi",
                    "Christian Klien",
                    "Daniil Kvyat",
                    "Esteban Gutiérrez",
                    "Esteban Ocon",
                    "Harry Schell",
                    "Hector Rebaque",
                    "Henri Pescarolo",
                    "Innes Ireland",
                    "Jackie Oliver",
                    "Jean Behra",
                    "Jean-Éric Vergne",
                    "Jo Bonnier",
                    "Jo Siffert",
                    "Kevin Magnussen",
                    "Lance Stroll",
                    "Marcus Ericsson",
                    "Masten Gregory",
                    "Maurice Trintignant",
                    "Mike Hailwood",
                    "Narain Karthikeyan",
                    "Nicholas Latifi",
                    "Pastor Maldonado",
                    "Paul di Resta",
                    "Rolf Stommelen",
                    "Romain Grosjean",
                    "Roy Salvadori",
                    "Satoru Nakajima",
                    "Vitaly Petrov",
                    "Yuki Tsunoda"
                  ],
                  "legendgroup": "Poor",
                  "marker": {
                    "color": "#FFA15A",
                    "symbol": "circle"
                  },
                  "mode": "markers+text",
                  "name": "Poor",
                  "orientation": "v",
                  "showlegend": true,
                  "text": [
                    "Alexander Wurz",
                    "Antonio Giovinazzi",
                    "Christian Klien",
                    "Daniil Kvyat",
                    "Esteban Gutiérrez",
                    "Esteban Ocon",
                    "Harry Schell",
                    "Hector Rebaque",
                    "Henri Pescarolo",
                    "Innes Ireland",
                    "Jackie Oliver",
                    "Jean Behra",
                    "Jean-Éric Vergne",
                    "Jo Bonnier",
                    "Jo Siffert",
                    "Kevin Magnussen",
                    "Lance Stroll",
                    "Marcus Ericsson",
                    "Masten Gregory",
                    "Maurice Trintignant",
                    "Mike Hailwood",
                    "Narain Karthikeyan",
                    "Nicholas Latifi",
                    "Pastor Maldonado",
                    "Paul di Resta",
                    "Rolf Stommelen",
                    "Romain Grosjean",
                    "Roy Salvadori",
                    "Satoru Nakajima",
                    "Vitaly Petrov",
                    "Yuki Tsunoda"
                  ],
                  "textposition": "top center",
                  "type": "scatter",
                  "x": [
                    0.1310144927536232,
                    0.013548387096774193,
                    0.04392156862745098,
                    0.07214285714285715,
                    0.004067796610169492,
                    0.12910569105691058,
                    0.1425,
                    0.05517241379310345,
                    0.06983050847457627,
                    0.14545454545454545,
                    0.07450980392156863,
                    0.18736842105263157,
                    0.03517241379310345,
                    0.11302752293577982,
                    0.1388,
                    0.04701298701298701,
                    0.07014925373134329,
                    0.007422680412371134,
                    0.10695652173913044,
                    0.17793103448275863,
                    0.12784313725490196,
                    0.01,
                    0.006557377049180328,
                    0.03166666666666667,
                    0.08203389830508474,
                    0.06295081967213115,
                    0.08640883977900553,
                    0.10196078431372549,
                    0.077,
                    0.044137931034482755,
                    0.03357142857142857
                  ],
                  "xaxis": "x",
                  "y": [
                    0.4927536231884058,
                    0.3548387096774194,
                    0.45098039215686275,
                    0.45535714285714285,
                    0.4915254237288136,
                    0.4796747967479675,
                    0.34375,
                    0.27586206896551724,
                    0.3559322033898305,
                    0.4909090909090909,
                    0.45098039215686275,
                    0.38596491228070173,
                    0.46551724137931033,
                    0.3577981651376147,
                    0.35,
                    0.4935064935064935,
                    0.417910447761194,
                    0.4845360824742268,
                    0.32608695652173914,
                    0.3563218390804598,
                    0.49019607843137253,
                    0.375,
                    0.29508196721311475,
                    0.4895833333333333,
                    0.4915254237288136,
                    0.4098360655737705,
                    0.47513812154696133,
                    0.4117647058823529,
                    0.4125,
                    0.41379310344827586,
                    0.4107142857142857
                  ],
                  "yaxis": "y"
                },
                {
                  "hovertemplate": "<b>%{hovertext}</b><br><br>performance_tier=Underperformers<br>Points per Race (Ratio)=%{x}<br>Win Ratio=%{y}<br>driver=%{text}<extra></extra>",
                  "hovertext": [
                    "Bruce McLaren",
                    "Carlos Reutemann",
                    "Carlos Sainz",
                    "Charles Leclerc",
                    "Clay Regazzoni",
                    "Damon Hill",
                    "Daniel Ricciardo",
                    "David Coulthard",
                    "Denny Hulme",
                    "Eddie Irvine",
                    "Felipe Massa",
                    "François Cevert",
                    "Gerhard Berger",
                    "Gilles Villeneuve",
                    "Graham Hill",
                    "Jack Brabham",
                    "Jacques Villeneuve",
                    "Jochen Rindt",
                    "Juan Pablo Montoya",
                    "Kimi Räikkönen",
                    "Mark Webber",
                    "Mike Hawthorn",
                    "Nico Rosberg",
                    "Nigel Mansell",
                    "Niki Lauda",
                    "Patrick Depailler",
                    "Phil Hill",
                    "Ralf Schumacher",
                    "Richie Ginther",
                    "Robert Kubica",
                    "Ronnie Peterson",
                    "Rubens Barrichello",
                    "Sergio Pérez",
                    "Stirling Moss",
                    "Valtteri Bottas"
                  ],
                  "legendgroup": "Underperformers",
                  "marker": {
                    "color": "#19d3f3",
                    "symbol": "circle"
                  },
                  "mode": "markers+text",
                  "name": "Underperformers",
                  "orientation": "v",
                  "showlegend": true,
                  "text": [
                    "Bruce McLaren",
                    "Carlos Reutemann",
                    "Carlos Sainz",
                    "Charles Leclerc",
                    "Clay Regazzoni",
                    "Damon Hill",
                    "Daniel Ricciardo",
                    "David Coulthard",
                    "Denny Hulme",
                    "Eddie Irvine",
                    "Felipe Massa",
                    "François Cevert",
                    "Gerhard Berger",
                    "Gilles Villeneuve",
                    "Graham Hill",
                    "Jack Brabham",
                    "Jacques Villeneuve",
                    "Jochen Rindt",
                    "Juan Pablo Montoya",
                    "Kimi Räikkönen",
                    "Mark Webber",
                    "Mike Hawthorn",
                    "Nico Rosberg",
                    "Nigel Mansell",
                    "Niki Lauda",
                    "Patrick Depailler",
                    "Phil Hill",
                    "Ralf Schumacher",
                    "Richie Ginther",
                    "Robert Kubica",
                    "Ronnie Peterson",
                    "Rubens Barrichello",
                    "Sergio Pérez",
                    "Stirling Moss",
                    "Valtteri Bottas"
                  ],
                  "textposition": "top center",
                  "type": "scatter",
                  "x": [
                    0.29320388349514565,
                    0.3098630136986301,
                    0.19154285714285715,
                    0.3248695652173913,
                    0.23768115942028986,
                    0.35770491803278687,
                    0.2218803418803419,
                    0.27951417004048584,
                    0.3357142857142857,
                    0.2146938775510204,
                    0.24841328413284133,
                    0.27404255319148935,
                    0.2699047619047619,
                    0.23647058823529413,
                    0.2353072625698324,
                    0.2911627906976744,
                    0.2067878787878788,
                    0.23096774193548386,
                    0.3473684210526316,
                    0.3171590909090909,
                    0.25105990783410137,
                    0.3858333333333333,
                    0.33766990291262133,
                    0.314375,
                    0.3082758620689655,
                    0.232,
                    0.2823076923076923,
                    0.24355555555555555,
                    0.3125925925925926,
                    0.19757575757575757,
                    0.23772357723577237,
                    0.232760736196319,
                    0.21670682730923696,
                    0.3375342465753425,
                    0.3307042253521127
                  ],
                  "xaxis": "x",
                  "y": [
                    0.6019417475728155,
                    0.5205479452054794,
                    0.5257142857142857,
                    0.591304347826087,
                    0.5652173913043478,
                    0.6147540983606558,
                    0.5256410256410257,
                    0.4939271255060729,
                    0.5,
                    0.5102040816326531,
                    0.3948339483394834,
                    0.3191489361702128,
                    0.5857142857142857,
                    0.5735294117647058,
                    0.5698324022346368,
                    0.5038759689922481,
                    0.5575757575757576,
                    0.5806451612903226,
                    0.5684210526315789,
                    0.5340909090909091,
                    0.5483870967741935,
                    0.4375,
                    0.5728155339805825,
                    0.59375,
                    0.5459770114942529,
                    0.5368421052631579,
                    0.4423076923076923,
                    0.5611111111111111,
                    0.46296296296296297,
                    0.48484848484848486,
                    0.5853658536585366,
                    0.50920245398773,
                    0.46987951807228917,
                    0.4383561643835616,
                    0.4225352112676056
                  ],
                  "yaxis": "y"
                }
              ],
              "layout": {
                "height": 600,
                "legend": {
                  "title": {
                    "text": "performance_tier"
                  },
                  "tracegroupgap": 0
                },
                "template": {
                  "data": {
                    "bar": [
                      {
                        "error_x": {
                          "color": "#2a3f5f"
                        },
                        "error_y": {
                          "color": "#2a3f5f"
                        },
                        "marker": {
                          "line": {
                            "color": "#E5ECF6",
                            "width": 0.5
                          },
                          "pattern": {
                            "fillmode": "overlay",
                            "size": 10,
                            "solidity": 0.2
                          }
                        },
                        "type": "bar"
                      }
                    ],
                    "barpolar": [
                      {
                        "marker": {
                          "line": {
                            "color": "#E5ECF6",
                            "width": 0.5
                          },
                          "pattern": {
                            "fillmode": "overlay",
                            "size": 10,
                            "solidity": 0.2
                          }
                        },
                        "type": "barpolar"
                      }
                    ],
                    "carpet": [
                      {
                        "aaxis": {
                          "endlinecolor": "#2a3f5f",
                          "gridcolor": "white",
                          "linecolor": "white",
                          "minorgridcolor": "white",
                          "startlinecolor": "#2a3f5f"
                        },
                        "baxis": {
                          "endlinecolor": "#2a3f5f",
                          "gridcolor": "white",
                          "linecolor": "white",
                          "minorgridcolor": "white",
                          "startlinecolor": "#2a3f5f"
                        },
                        "type": "carpet"
                      }
                    ],
                    "choropleth": [
                      {
                        "colorbar": {
                          "outlinewidth": 0,
                          "ticks": ""
                        },
                        "type": "choropleth"
                      }
                    ],
                    "contour": [
                      {
                        "colorbar": {
                          "outlinewidth": 0,
                          "ticks": ""
                        },
                        "colorscale": [
                          [
                            0,
                            "#0d0887"
                          ],
                          [
                            0.1111111111111111,
                            "#46039f"
                          ],
                          [
                            0.2222222222222222,
                            "#7201a8"
                          ],
                          [
                            0.3333333333333333,
                            "#9c179e"
                          ],
                          [
                            0.4444444444444444,
                            "#bd3786"
                          ],
                          [
                            0.5555555555555556,
                            "#d8576b"
                          ],
                          [
                            0.6666666666666666,
                            "#ed7953"
                          ],
                          [
                            0.7777777777777778,
                            "#fb9f3a"
                          ],
                          [
                            0.8888888888888888,
                            "#fdca26"
                          ],
                          [
                            1,
                            "#f0f921"
                          ]
                        ],
                        "type": "contour"
                      }
                    ],
                    "contourcarpet": [
                      {
                        "colorbar": {
                          "outlinewidth": 0,
                          "ticks": ""
                        },
                        "type": "contourcarpet"
                      }
                    ],
                    "heatmap": [
                      {
                        "colorbar": {
                          "outlinewidth": 0,
                          "ticks": ""
                        },
                        "colorscale": [
                          [
                            0,
                            "#0d0887"
                          ],
                          [
                            0.1111111111111111,
                            "#46039f"
                          ],
                          [
                            0.2222222222222222,
                            "#7201a8"
                          ],
                          [
                            0.3333333333333333,
                            "#9c179e"
                          ],
                          [
                            0.4444444444444444,
                            "#bd3786"
                          ],
                          [
                            0.5555555555555556,
                            "#d8576b"
                          ],
                          [
                            0.6666666666666666,
                            "#ed7953"
                          ],
                          [
                            0.7777777777777778,
                            "#fb9f3a"
                          ],
                          [
                            0.8888888888888888,
                            "#fdca26"
                          ],
                          [
                            1,
                            "#f0f921"
                          ]
                        ],
                        "type": "heatmap"
                      }
                    ],
                    "heatmapgl": [
                      {
                        "colorbar": {
                          "outlinewidth": 0,
                          "ticks": ""
                        },
                        "colorscale": [
                          [
                            0,
                            "#0d0887"
                          ],
                          [
                            0.1111111111111111,
                            "#46039f"
                          ],
                          [
                            0.2222222222222222,
                            "#7201a8"
                          ],
                          [
                            0.3333333333333333,
                            "#9c179e"
                          ],
                          [
                            0.4444444444444444,
                            "#bd3786"
                          ],
                          [
                            0.5555555555555556,
                            "#d8576b"
                          ],
                          [
                            0.6666666666666666,
                            "#ed7953"
                          ],
                          [
                            0.7777777777777778,
                            "#fb9f3a"
                          ],
                          [
                            0.8888888888888888,
                            "#fdca26"
                          ],
                          [
                            1,
                            "#f0f921"
                          ]
                        ],
                        "type": "heatmapgl"
                      }
                    ],
                    "histogram": [
                      {
                        "marker": {
                          "pattern": {
                            "fillmode": "overlay",
                            "size": 10,
                            "solidity": 0.2
                          }
                        },
                        "type": "histogram"
                      }
                    ],
                    "histogram2d": [
                      {
                        "colorbar": {
                          "outlinewidth": 0,
                          "ticks": ""
                        },
                        "colorscale": [
                          [
                            0,
                            "#0d0887"
                          ],
                          [
                            0.1111111111111111,
                            "#46039f"
                          ],
                          [
                            0.2222222222222222,
                            "#7201a8"
                          ],
                          [
                            0.3333333333333333,
                            "#9c179e"
                          ],
                          [
                            0.4444444444444444,
                            "#bd3786"
                          ],
                          [
                            0.5555555555555556,
                            "#d8576b"
                          ],
                          [
                            0.6666666666666666,
                            "#ed7953"
                          ],
                          [
                            0.7777777777777778,
                            "#fb9f3a"
                          ],
                          [
                            0.8888888888888888,
                            "#fdca26"
                          ],
                          [
                            1,
                            "#f0f921"
                          ]
                        ],
                        "type": "histogram2d"
                      }
                    ],
                    "histogram2dcontour": [
                      {
                        "colorbar": {
                          "outlinewidth": 0,
                          "ticks": ""
                        },
                        "colorscale": [
                          [
                            0,
                            "#0d0887"
                          ],
                          [
                            0.1111111111111111,
                            "#46039f"
                          ],
                          [
                            0.2222222222222222,
                            "#7201a8"
                          ],
                          [
                            0.3333333333333333,
                            "#9c179e"
                          ],
                          [
                            0.4444444444444444,
                            "#bd3786"
                          ],
                          [
                            0.5555555555555556,
                            "#d8576b"
                          ],
                          [
                            0.6666666666666666,
                            "#ed7953"
                          ],
                          [
                            0.7777777777777778,
                            "#fb9f3a"
                          ],
                          [
                            0.8888888888888888,
                            "#fdca26"
                          ],
                          [
                            1,
                            "#f0f921"
                          ]
                        ],
                        "type": "histogram2dcontour"
                      }
                    ],
                    "mesh3d": [
                      {
                        "colorbar": {
                          "outlinewidth": 0,
                          "ticks": ""
                        },
                        "type": "mesh3d"
                      }
                    ],
                    "parcoords": [
                      {
                        "line": {
                          "colorbar": {
                            "outlinewidth": 0,
                            "ticks": ""
                          }
                        },
                        "type": "parcoords"
                      }
                    ],
                    "pie": [
                      {
                        "automargin": true,
                        "type": "pie"
                      }
                    ],
                    "scatter": [
                      {
                        "fillpattern": {
                          "fillmode": "overlay",
                          "size": 10,
                          "solidity": 0.2
                        },
                        "type": "scatter"
                      }
                    ],
                    "scatter3d": [
                      {
                        "line": {
                          "colorbar": {
                            "outlinewidth": 0,
                            "ticks": ""
                          }
                        },
                        "marker": {
                          "colorbar": {
                            "outlinewidth": 0,
                            "ticks": ""
                          }
                        },
                        "type": "scatter3d"
                      }
                    ],
                    "scattercarpet": [
                      {
                        "marker": {
                          "colorbar": {
                            "outlinewidth": 0,
                            "ticks": ""
                          }
                        },
                        "type": "scattercarpet"
                      }
                    ],
                    "scattergeo": [
                      {
                        "marker": {
                          "colorbar": {
                            "outlinewidth": 0,
                            "ticks": ""
                          }
                        },
                        "type": "scattergeo"
                      }
                    ],
                    "scattergl": [
                      {
                        "marker": {
                          "colorbar": {
                            "outlinewidth": 0,
                            "ticks": ""
                          }
                        },
                        "type": "scattergl"
                      }
                    ],
                    "scattermapbox": [
                      {
                        "marker": {
                          "colorbar": {
                            "outlinewidth": 0,
                            "ticks": ""
                          }
                        },
                        "type": "scattermapbox"
                      }
                    ],
                    "scatterpolar": [
                      {
                        "marker": {
                          "colorbar": {
                            "outlinewidth": 0,
                            "ticks": ""
                          }
                        },
                        "type": "scatterpolar"
                      }
                    ],
                    "scatterpolargl": [
                      {
                        "marker": {
                          "colorbar": {
                            "outlinewidth": 0,
                            "ticks": ""
                          }
                        },
                        "type": "scatterpolargl"
                      }
                    ],
                    "scatterternary": [
                      {
                        "marker": {
                          "colorbar": {
                            "outlinewidth": 0,
                            "ticks": ""
                          }
                        },
                        "type": "scatterternary"
                      }
                    ],
                    "surface": [
                      {
                        "colorbar": {
                          "outlinewidth": 0,
                          "ticks": ""
                        },
                        "colorscale": [
                          [
                            0,
                            "#0d0887"
                          ],
                          [
                            0.1111111111111111,
                            "#46039f"
                          ],
                          [
                            0.2222222222222222,
                            "#7201a8"
                          ],
                          [
                            0.3333333333333333,
                            "#9c179e"
                          ],
                          [
                            0.4444444444444444,
                            "#bd3786"
                          ],
                          [
                            0.5555555555555556,
                            "#d8576b"
                          ],
                          [
                            0.6666666666666666,
                            "#ed7953"
                          ],
                          [
                            0.7777777777777778,
                            "#fb9f3a"
                          ],
                          [
                            0.8888888888888888,
                            "#fdca26"
                          ],
                          [
                            1,
                            "#f0f921"
                          ]
                        ],
                        "type": "surface"
                      }
                    ],
                    "table": [
                      {
                        "cells": {
                          "fill": {
                            "color": "#EBF0F8"
                          },
                          "line": {
                            "color": "white"
                          }
                        },
                        "header": {
                          "fill": {
                            "color": "#C8D4E3"
                          },
                          "line": {
                            "color": "white"
                          }
                        },
                        "type": "table"
                      }
                    ]
                  },
                  "layout": {
                    "annotationdefaults": {
                      "arrowcolor": "#2a3f5f",
                      "arrowhead": 0,
                      "arrowwidth": 1
                    },
                    "autotypenumbers": "strict",
                    "coloraxis": {
                      "colorbar": {
                        "outlinewidth": 0,
                        "ticks": ""
                      }
                    },
                    "colorscale": {
                      "diverging": [
                        [
                          0,
                          "#8e0152"
                        ],
                        [
                          0.1,
                          "#c51b7d"
                        ],
                        [
                          0.2,
                          "#de77ae"
                        ],
                        [
                          0.3,
                          "#f1b6da"
                        ],
                        [
                          0.4,
                          "#fde0ef"
                        ],
                        [
                          0.5,
                          "#f7f7f7"
                        ],
                        [
                          0.6,
                          "#e6f5d0"
                        ],
                        [
                          0.7,
                          "#b8e186"
                        ],
                        [
                          0.8,
                          "#7fbc41"
                        ],
                        [
                          0.9,
                          "#4d9221"
                        ],
                        [
                          1,
                          "#276419"
                        ]
                      ],
                      "sequential": [
                        [
                          0,
                          "#0d0887"
                        ],
                        [
                          0.1111111111111111,
                          "#46039f"
                        ],
                        [
                          0.2222222222222222,
                          "#7201a8"
                        ],
                        [
                          0.3333333333333333,
                          "#9c179e"
                        ],
                        [
                          0.4444444444444444,
                          "#bd3786"
                        ],
                        [
                          0.5555555555555556,
                          "#d8576b"
                        ],
                        [
                          0.6666666666666666,
                          "#ed7953"
                        ],
                        [
                          0.7777777777777778,
                          "#fb9f3a"
                        ],
                        [
                          0.8888888888888888,
                          "#fdca26"
                        ],
                        [
                          1,
                          "#f0f921"
                        ]
                      ],
                      "sequentialminus": [
                        [
                          0,
                          "#0d0887"
                        ],
                        [
                          0.1111111111111111,
                          "#46039f"
                        ],
                        [
                          0.2222222222222222,
                          "#7201a8"
                        ],
                        [
                          0.3333333333333333,
                          "#9c179e"
                        ],
                        [
                          0.4444444444444444,
                          "#bd3786"
                        ],
                        [
                          0.5555555555555556,
                          "#d8576b"
                        ],
                        [
                          0.6666666666666666,
                          "#ed7953"
                        ],
                        [
                          0.7777777777777778,
                          "#fb9f3a"
                        ],
                        [
                          0.8888888888888888,
                          "#fdca26"
                        ],
                        [
                          1,
                          "#f0f921"
                        ]
                      ]
                    },
                    "colorway": [
                      "#636efa",
                      "#EF553B",
                      "#00cc96",
                      "#ab63fa",
                      "#FFA15A",
                      "#19d3f3",
                      "#FF6692",
                      "#B6E880",
                      "#FF97FF",
                      "#FECB52"
                    ],
                    "font": {
                      "color": "#2a3f5f"
                    },
                    "geo": {
                      "bgcolor": "white",
                      "lakecolor": "white",
                      "landcolor": "#E5ECF6",
                      "showlakes": true,
                      "showland": true,
                      "subunitcolor": "white"
                    },
                    "hoverlabel": {
                      "align": "left"
                    },
                    "hovermode": "closest",
                    "mapbox": {
                      "style": "light"
                    },
                    "paper_bgcolor": "white",
                    "plot_bgcolor": "#E5ECF6",
                    "polar": {
                      "angularaxis": {
                        "gridcolor": "white",
                        "linecolor": "white",
                        "ticks": ""
                      },
                      "bgcolor": "#E5ECF6",
                      "radialaxis": {
                        "gridcolor": "white",
                        "linecolor": "white",
                        "ticks": ""
                      }
                    },
                    "scene": {
                      "xaxis": {
                        "backgroundcolor": "#E5ECF6",
                        "gridcolor": "white",
                        "gridwidth": 2,
                        "linecolor": "white",
                        "showbackground": true,
                        "ticks": "",
                        "zerolinecolor": "white"
                      },
                      "yaxis": {
                        "backgroundcolor": "#E5ECF6",
                        "gridcolor": "white",
                        "gridwidth": 2,
                        "linecolor": "white",
                        "showbackground": true,
                        "ticks": "",
                        "zerolinecolor": "white"
                      },
                      "zaxis": {
                        "backgroundcolor": "#E5ECF6",
                        "gridcolor": "white",
                        "gridwidth": 2,
                        "linecolor": "white",
                        "showbackground": true,
                        "ticks": "",
                        "zerolinecolor": "white"
                      }
                    },
                    "shapedefaults": {
                      "line": {
                        "color": "#2a3f5f"
                      }
                    },
                    "ternary": {
                      "aaxis": {
                        "gridcolor": "white",
                        "linecolor": "white",
                        "ticks": ""
                      },
                      "baxis": {
                        "gridcolor": "white",
                        "linecolor": "white",
                        "ticks": ""
                      },
                      "bgcolor": "#E5ECF6",
                      "caxis": {
                        "gridcolor": "white",
                        "linecolor": "white",
                        "ticks": ""
                      }
                    },
                    "title": {
                      "x": 0.05
                    },
                    "xaxis": {
                      "automargin": true,
                      "gridcolor": "white",
                      "linecolor": "white",
                      "ticks": "",
                      "title": {
                        "standoff": 15
                      },
                      "zerolinecolor": "white",
                      "zerolinewidth": 2
                    },
                    "yaxis": {
                      "automargin": true,
                      "gridcolor": "white",
                      "linecolor": "white",
                      "ticks": "",
                      "title": {
                        "standoff": 15
                      },
                      "zerolinecolor": "white",
                      "zerolinewidth": 2
                    }
                  }
                },
                "title": {
                  "text": "F1 Driver Performance Clusters (with Labels)"
                },
                "width": 1000,
                "xaxis": {
                  "anchor": "y",
                  "domain": [
                    0,
                    1
                  ],
                  "title": {
                    "text": "Points per Race (Ratio)"
                  }
                },
                "yaxis": {
                  "anchor": "x",
                  "domain": [
                    0,
                    1
                  ],
                  "title": {
                    "text": "Win Ratio"
                  }
                }
              }
            }
          },
          "metadata": {},
          "output_type": "display_data"
        }
      ],
      "source": [
        "import plotly.express as px\n",
        "\n",
        "fig = px.scatter(\n",
        "    driver_summary,\n",
        "    x='ratio_points_per_race',\n",
        "    y='win_ratio',\n",
        "    color='performance_tier',\n",
        "    hover_name='driver',         # still keeps hover info\n",
        "    text='driver',               # show name as label\n",
        "    title='F1 Driver Performance Clusters (with Labels)',\n",
        "    labels={\n",
        "        'ratio_points_per_race': 'Points per Race (Ratio)',\n",
        "        'win_ratio': 'Win Ratio'\n",
        "    },\n",
        "    width=1000,\n",
        "    height=600\n",
        ")\n",
        "\n",
        "# Position the text labels\n",
        "fig.update_traces(textposition='top center')\n",
        "\n",
        "# Show plot\n",
        "fig.show()"
      ]
    }
  ],
  "metadata": {
    "colab": {
      "provenance": []
    },
    "kernelspec": {
      "display_name": "pda1",
      "language": "python",
      "name": "python3"
    },
    "language_info": {
      "codemirror_mode": {
        "name": "ipython",
        "version": 3
      },
      "file_extension": ".py",
      "mimetype": "text/x-python",
      "name": "python",
      "nbconvert_exporter": "python",
      "pygments_lexer": "ipython3",
      "version": "3.9.6"
    }
  },
  "nbformat": 4,
  "nbformat_minor": 0
}
